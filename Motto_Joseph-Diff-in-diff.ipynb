{
 "cells": [
  {
   "cell_type": "markdown",
   "metadata": {
    "ein.tags": "worksheet-0",
    "slideshow": {
     "slide_type": "-"
    }
   },
   "source": [
    "# Problem Set 3, due Wednesday, May 2nd at 10 pm."
   ]
  },
  {
   "cell_type": "markdown",
   "metadata": {
    "ein.tags": "worksheet-0",
    "slideshow": {
     "slide_type": "-"
    }
   },
   "source": [
    "## Introduction to the assignment\n",
    "\n",
    "For this assignment, you will be using data from the [Progresa\n",
    "program](http://en.wikipedia.org/wiki/Oportunidades), a government\n",
    "social assistance program in Mexico. This program, as well as the\n",
    "details of its impact, are described in the paper \"[School subsidies\n",
    "for the poor: evaluating the Mexican Progresa poverty\n",
    "program](http://www.sciencedirect.com/science/article/pii/S0304387803001858)\",\n",
    "by Paul Shultz (available on Canvas).  The data\n",
    "(progresa_sample.csv.gz) is available on canvas\n",
    "in files/data.\n",
    "\n",
    "Please read the paper to familiarize yourself with\n",
    "the PROGRESA program before beginning this problem set, so you have a\n",
    "rough sense of where the data come from and how they were\n",
    "generated. If you just proceed into the problem set without\n",
    "understanding Progresa or the data, it will be very difficult!\n",
    "\n",
    "The goal of this problem set is to implement some of the basic\n",
    "econometric techniques that you are learning in class to measure the\n",
    "impact of Progresa on secondary school enrollment rates, in particular\n",
    "differences-in-differences.  Your task is to **estimate the impact of\n",
    "_progresa_ subsidies on the school attendance**.  Note: this asks to\n",
    "estimate a causal effect.\n",
    "\n",
    "The timeline of the program was:\n",
    "\n",
    " * Baseline survey conducted in 1997\n",
    " * Intervention begins in 1998, \"Wave 1\" of data collected in 1998\n",
    " * \"Wave 2 of data\" collected in 1999\n",
    " * Evaluation ends in 2000, at which point the control villages were treated. \n",
    " \n",
    "When you are ready, download the progresa_sample.csv data from\n",
    "Canvas. The data are actual data collected to evaluate the impact of\n",
    "the Progresa program.  In this file, each row corresponds to an\n",
    "observation taken for a given child for a given year. There are two\n",
    "years of data (1997 and 1998), and just under 40,000 children who are\n",
    "surveyed in both years.  For each child-year observation, the\n",
    "following variables are collected:\n",
    "\n",
    "| Variable name | Description|\n",
    "|------|------|\n",
    "|year\t  |year in which data is collected\n",
    "|sex\t  |male = 1|\n",
    "|indig\t  |indigenous = 1|\n",
    "|dist_sec |nearest distance to a secondary school|\n",
    "|sc\t      |enrolled in school in year of survey (=1)|\n",
    "|grc      |grade enrolled|\n",
    "|fam_n    |family size|\n",
    "|min_dist |\tmin distance to an urban center|\n",
    "|dist_cap |\tmin distance to the capital|\n",
    "|poor     |\tpoor = \"pobre\", not poor = \"no pobre\"|\n",
    "|progresa |treatment = \"basal\", control = \"0\"|\n",
    "|hohedu\t  |years of schooling of head of household|\n",
    "|hohwag\t  |monthly wages of head of household|\n",
    "|welfare_index|\twelfare index used to classify poor|\n",
    "|hohsex\t|gender of head of household (male=1)|\n",
    "|hohage\t|age of head of household|\n",
    "|age\t|years old|\n",
    "|folnum\t|individual id|\n",
    "|village|\tvillage id|\n",
    "|sc97\t|enrolled in school in 1997 (=1) |"
   ]
  },
  {
   "cell_type": "markdown",
   "metadata": {
    "ein.tags": "worksheet-0",
    "slideshow": {
     "slide_type": "-"
    }
   },
   "source": [
    "## Part 1: Descriptive analysis\n",
    "\n",
    "### 1.1\tSummary Statistics\n",
    "\n",
    "Report summary statistics (mean, standard deviation, and number of missings) for all of\n",
    "the demographic variables in the dataset (i.e., everything except\n",
    "year, folnum, village).  Present the actual levels for 'progresa' and\n",
    "'poor'.  Do these fit with the documentation above?\n",
    "\n",
    "Present these in a single table alphabetized\n",
    "by variable name. Do NOT simply expect the grader to scroll through\n",
    "your output!"
   ]
  },
  {
   "cell_type": "code",
   "execution_count": 25,
   "metadata": {
    "collapsed": true
   },
   "outputs": [],
   "source": [
    "import numpy as np\n",
    "import scipy as sp\n",
    "import pandas as pd\n",
    "import scipy.stats as stats\n",
    "import matplotlib.pyplot as plt\n",
    "import seaborn as sns\n",
    "import statsmodels.formula.api as smf\n",
    "%matplotlib inline \n"
   ]
  },
  {
   "cell_type": "code",
   "execution_count": 4,
   "metadata": {
    "autoscroll": false,
    "ein.tags": "worksheet-0",
    "slideshow": {
     "slide_type": "-"
    }
   },
   "outputs": [
    {
     "data": {
      "text/html": [
       "<div>\n",
       "<style>\n",
       "    .dataframe thead tr:only-child th {\n",
       "        text-align: right;\n",
       "    }\n",
       "\n",
       "    .dataframe thead th {\n",
       "        text-align: left;\n",
       "    }\n",
       "\n",
       "    .dataframe tbody tr th {\n",
       "        vertical-align: top;\n",
       "    }\n",
       "</style>\n",
       "<table border=\"1\" class=\"dataframe\">\n",
       "  <thead>\n",
       "    <tr style=\"text-align: right;\">\n",
       "      <th></th>\n",
       "      <th>name</th>\n",
       "      <th>mean</th>\n",
       "      <th>std</th>\n",
       "    </tr>\n",
       "  </thead>\n",
       "  <tbody>\n",
       "    <tr>\n",
       "      <th>0</th>\n",
       "      <td>age</td>\n",
       "      <td>11.366460</td>\n",
       "      <td>3.167744</td>\n",
       "    </tr>\n",
       "    <tr>\n",
       "      <th>1</th>\n",
       "      <td>dist_cap</td>\n",
       "      <td>147.674452</td>\n",
       "      <td>76.063134</td>\n",
       "    </tr>\n",
       "    <tr>\n",
       "      <th>2</th>\n",
       "      <td>dist_sec</td>\n",
       "      <td>2.418910</td>\n",
       "      <td>2.234109</td>\n",
       "    </tr>\n",
       "    <tr>\n",
       "      <th>3</th>\n",
       "      <td>fam_n</td>\n",
       "      <td>7.215715</td>\n",
       "      <td>2.352900</td>\n",
       "    </tr>\n",
       "    <tr>\n",
       "      <th>4</th>\n",
       "      <td>grc</td>\n",
       "      <td>3.963537</td>\n",
       "      <td>2.499063</td>\n",
       "    </tr>\n",
       "    <tr>\n",
       "      <th>5</th>\n",
       "      <td>grc97</td>\n",
       "      <td>3.705372</td>\n",
       "      <td>2.572387</td>\n",
       "    </tr>\n",
       "    <tr>\n",
       "      <th>6</th>\n",
       "      <td>hohage</td>\n",
       "      <td>44.436717</td>\n",
       "      <td>11.620372</td>\n",
       "    </tr>\n",
       "    <tr>\n",
       "      <th>7</th>\n",
       "      <td>hohedu</td>\n",
       "      <td>2.768104</td>\n",
       "      <td>2.656106</td>\n",
       "    </tr>\n",
       "    <tr>\n",
       "      <th>8</th>\n",
       "      <td>hohsex</td>\n",
       "      <td>0.925185</td>\n",
       "      <td>0.263095</td>\n",
       "    </tr>\n",
       "    <tr>\n",
       "      <th>9</th>\n",
       "      <td>hohwag</td>\n",
       "      <td>586.985312</td>\n",
       "      <td>788.133664</td>\n",
       "    </tr>\n",
       "    <tr>\n",
       "      <th>10</th>\n",
       "      <td>indig</td>\n",
       "      <td>0.298324</td>\n",
       "      <td>0.457525</td>\n",
       "    </tr>\n",
       "    <tr>\n",
       "      <th>11</th>\n",
       "      <td>min_dist</td>\n",
       "      <td>103.447520</td>\n",
       "      <td>42.089441</td>\n",
       "    </tr>\n",
       "    <tr>\n",
       "      <th>12</th>\n",
       "      <td>poor</td>\n",
       "      <td>0.846498</td>\n",
       "      <td>0.360473</td>\n",
       "    </tr>\n",
       "    <tr>\n",
       "      <th>13</th>\n",
       "      <td>progresa</td>\n",
       "      <td>0.615663</td>\n",
       "      <td>0.486441</td>\n",
       "    </tr>\n",
       "    <tr>\n",
       "      <th>14</th>\n",
       "      <td>sc</td>\n",
       "      <td>0.819818</td>\n",
       "      <td>0.384342</td>\n",
       "    </tr>\n",
       "    <tr>\n",
       "      <th>15</th>\n",
       "      <td>sc97</td>\n",
       "      <td>0.813922</td>\n",
       "      <td>0.389172</td>\n",
       "    </tr>\n",
       "    <tr>\n",
       "      <th>16</th>\n",
       "      <td>sex</td>\n",
       "      <td>0.512211</td>\n",
       "      <td>0.499854</td>\n",
       "    </tr>\n",
       "    <tr>\n",
       "      <th>17</th>\n",
       "      <td>welfare_index</td>\n",
       "      <td>690.346564</td>\n",
       "      <td>139.491130</td>\n",
       "    </tr>\n",
       "  </tbody>\n",
       "</table>\n",
       "</div>"
      ],
      "text/plain": [
       "             name        mean         std\n",
       "0             age   11.366460    3.167744\n",
       "1        dist_cap  147.674452   76.063134\n",
       "2        dist_sec    2.418910    2.234109\n",
       "3           fam_n    7.215715    2.352900\n",
       "4             grc    3.963537    2.499063\n",
       "5           grc97    3.705372    2.572387\n",
       "6          hohage   44.436717   11.620372\n",
       "7          hohedu    2.768104    2.656106\n",
       "8          hohsex    0.925185    0.263095\n",
       "9          hohwag  586.985312  788.133664\n",
       "10          indig    0.298324    0.457525\n",
       "11       min_dist  103.447520   42.089441\n",
       "12           poor    0.846498    0.360473\n",
       "13       progresa    0.615663    0.486441\n",
       "14             sc    0.819818    0.384342\n",
       "15           sc97    0.813922    0.389172\n",
       "16            sex    0.512211    0.499854\n",
       "17  welfare_index  690.346564  139.491130"
      ]
     },
     "execution_count": 4,
     "metadata": {},
     "output_type": "execute_result"
    }
   ],
   "source": [
    "df = pd.read_csv('progresa_sample.csv')\n",
    "\n",
    "replacement = {'pobre':1, 'no pobre':0, '0': 0, 'basal':1}\n",
    "df = df.replace({'poor':replacement, 'progresa':replacement})\n",
    "\n",
    "columns = ['sex', 'indig', 'dist_sec', 'sc', 'grc', 'fam_n',\n",
    "       'min_dist', 'dist_cap', 'poor', 'progresa', 'hohedu', 'hohwag',\n",
    "       'welfare_index', 'hohsex', 'hohage', 'age', 'grc97', 'sc97']\n",
    "columns = sorted(columns, key=str.lower)\n",
    "\n",
    "data = []\n",
    "for column in columns:\n",
    "    row = []\n",
    "    row.append(column)\n",
    "    row.append(df[column].mean())\n",
    "    row.append(df[column].std())\n",
    "    data.append(row)\n",
    "\n",
    "summary = pd.DataFrame(data)\n",
    "summary.columns = ['name', 'mean', 'std']\n",
    "summary"
   ]
  },
  {
   "cell_type": "markdown",
   "metadata": {
    "ein.tags": "worksheet-0",
    "slideshow": {
     "slide_type": "-"
    }
   },
   "source": [
    "### 1.2 Differences at baseline?\n",
    "Now let's investigate the differences in baseline.  Are the baseline (1997) demographic characteristics **for the poor**\n",
    "different in treatment and control villages?\n",
    "\n",
    "I suggest you to use a T-Test to\n",
    "determine whether there is a statistically significant difference in\n",
    "the average values of each of the variables in the dataset. Focus only\n",
    "on the data from 1997 for poor.\n",
    "\n",
    "Present your results in a single table with the following columns and 14 (or so) rows:\n",
    "\n",
    "| Variable name | Average value (Treatment villages) | Average value (Control villages) | Difference (Treat - Control) | p-value |\n",
    "|------|------|------|------|------|\n",
    "|Male|?|?|?|?|\n"
   ]
  },
  {
   "cell_type": "code",
   "execution_count": 5,
   "metadata": {
    "autoscroll": false,
    "ein.tags": "worksheet-0",
    "slideshow": {
     "slide_type": "-"
    }
   },
   "outputs": [
    {
     "name": "stderr",
     "output_type": "stream",
     "text": [
      "/Users/joermotto/anaconda3/lib/python3.6/site-packages/ipykernel_launcher.py:11: UserWarning: Boolean Series key will be reindexed to match DataFrame index.\n",
      "  # This is added back by InteractiveShellApp.init_path()\n",
      "/Users/joermotto/anaconda3/lib/python3.6/site-packages/ipykernel_launcher.py:12: UserWarning: Boolean Series key will be reindexed to match DataFrame index.\n",
      "  if sys.path[0] == '':\n"
     ]
    },
    {
     "data": {
      "text/html": [
       "<div>\n",
       "<style>\n",
       "    .dataframe thead tr:only-child th {\n",
       "        text-align: right;\n",
       "    }\n",
       "\n",
       "    .dataframe thead th {\n",
       "        text-align: left;\n",
       "    }\n",
       "\n",
       "    .dataframe tbody tr th {\n",
       "        vertical-align: top;\n",
       "    }\n",
       "</style>\n",
       "<table border=\"1\" class=\"dataframe\">\n",
       "  <thead>\n",
       "    <tr style=\"text-align: right;\">\n",
       "      <th></th>\n",
       "      <th>variable</th>\n",
       "      <th>average Treatment</th>\n",
       "      <th>average Control</th>\n",
       "      <th>difference</th>\n",
       "      <th>t-stat</th>\n",
       "      <th>p-value</th>\n",
       "    </tr>\n",
       "  </thead>\n",
       "  <tbody>\n",
       "    <tr>\n",
       "      <th>0</th>\n",
       "      <td>age</td>\n",
       "      <td>10.716991</td>\n",
       "      <td>10.742023</td>\n",
       "      <td>-0.025032</td>\n",
       "      <td>-0.708630</td>\n",
       "      <td>4.785594e-01</td>\n",
       "    </tr>\n",
       "    <tr>\n",
       "      <th>1</th>\n",
       "      <td>dist_cap</td>\n",
       "      <td>150.829074</td>\n",
       "      <td>153.769730</td>\n",
       "      <td>-2.940656</td>\n",
       "      <td>-3.339081</td>\n",
       "      <td>8.415005e-04</td>\n",
       "    </tr>\n",
       "    <tr>\n",
       "      <th>2</th>\n",
       "      <td>dist_sec</td>\n",
       "      <td>2.453122</td>\n",
       "      <td>2.507662</td>\n",
       "      <td>-0.054540</td>\n",
       "      <td>-2.100433</td>\n",
       "      <td>3.569843e-02</td>\n",
       "    </tr>\n",
       "    <tr>\n",
       "      <th>3</th>\n",
       "      <td>fam_n</td>\n",
       "      <td>7.281327</td>\n",
       "      <td>7.302469</td>\n",
       "      <td>-0.021142</td>\n",
       "      <td>-0.794167</td>\n",
       "      <td>4.271039e-01</td>\n",
       "    </tr>\n",
       "    <tr>\n",
       "      <th>4</th>\n",
       "      <td>grc97</td>\n",
       "      <td>3.531599</td>\n",
       "      <td>3.543050</td>\n",
       "      <td>-0.011450</td>\n",
       "      <td>-0.400196</td>\n",
       "      <td>6.890151e-01</td>\n",
       "    </tr>\n",
       "    <tr>\n",
       "      <th>5</th>\n",
       "      <td>hohage</td>\n",
       "      <td>43.648828</td>\n",
       "      <td>44.276918</td>\n",
       "      <td>-0.628090</td>\n",
       "      <td>-4.775962</td>\n",
       "      <td>1.796243e-06</td>\n",
       "    </tr>\n",
       "    <tr>\n",
       "      <th>6</th>\n",
       "      <td>hohedu</td>\n",
       "      <td>2.663139</td>\n",
       "      <td>2.590348</td>\n",
       "      <td>0.072791</td>\n",
       "      <td>2.541229</td>\n",
       "      <td>1.105093e-02</td>\n",
       "    </tr>\n",
       "    <tr>\n",
       "      <th>7</th>\n",
       "      <td>hohsex</td>\n",
       "      <td>0.924656</td>\n",
       "      <td>0.922947</td>\n",
       "      <td>0.001709</td>\n",
       "      <td>0.566312</td>\n",
       "      <td>5.711858e-01</td>\n",
       "    </tr>\n",
       "    <tr>\n",
       "      <th>8</th>\n",
       "      <td>hohwag</td>\n",
       "      <td>544.339544</td>\n",
       "      <td>573.163558</td>\n",
       "      <td>-28.824015</td>\n",
       "      <td>-3.594588</td>\n",
       "      <td>3.253835e-04</td>\n",
       "    </tr>\n",
       "    <tr>\n",
       "      <th>9</th>\n",
       "      <td>indig</td>\n",
       "      <td>0.325986</td>\n",
       "      <td>0.332207</td>\n",
       "      <td>-0.006222</td>\n",
       "      <td>-1.161714</td>\n",
       "      <td>2.453603e-01</td>\n",
       "    </tr>\n",
       "    <tr>\n",
       "      <th>10</th>\n",
       "      <td>min_dist</td>\n",
       "      <td>107.152915</td>\n",
       "      <td>103.237854</td>\n",
       "      <td>3.915060</td>\n",
       "      <td>8.206584</td>\n",
       "      <td>2.358312e-16</td>\n",
       "    </tr>\n",
       "    <tr>\n",
       "      <th>11</th>\n",
       "      <td>sc97</td>\n",
       "      <td>0.822697</td>\n",
       "      <td>0.815186</td>\n",
       "      <td>0.007511</td>\n",
       "      <td>1.668745</td>\n",
       "      <td>9.517806e-02</td>\n",
       "    </tr>\n",
       "    <tr>\n",
       "      <th>12</th>\n",
       "      <td>sex</td>\n",
       "      <td>0.519317</td>\n",
       "      <td>0.505052</td>\n",
       "      <td>0.014265</td>\n",
       "      <td>2.506686</td>\n",
       "      <td>1.219172e-02</td>\n",
       "    </tr>\n",
       "    <tr>\n",
       "      <th>13</th>\n",
       "      <td>welfare_index</td>\n",
       "      <td>655.428377</td>\n",
       "      <td>659.579100</td>\n",
       "      <td>-4.150723</td>\n",
       "      <td>-3.188594</td>\n",
       "      <td>1.431016e-03</td>\n",
       "    </tr>\n",
       "  </tbody>\n",
       "</table>\n",
       "</div>"
      ],
      "text/plain": [
       "         variable  average Treatment  average Control  difference    t-stat  \\\n",
       "0             age          10.716991        10.742023   -0.025032 -0.708630   \n",
       "1        dist_cap         150.829074       153.769730   -2.940656 -3.339081   \n",
       "2        dist_sec           2.453122         2.507662   -0.054540 -2.100433   \n",
       "3           fam_n           7.281327         7.302469   -0.021142 -0.794167   \n",
       "4           grc97           3.531599         3.543050   -0.011450 -0.400196   \n",
       "5          hohage          43.648828        44.276918   -0.628090 -4.775962   \n",
       "6          hohedu           2.663139         2.590348    0.072791  2.541229   \n",
       "7          hohsex           0.924656         0.922947    0.001709  0.566312   \n",
       "8          hohwag         544.339544       573.163558  -28.824015 -3.594588   \n",
       "9           indig           0.325986         0.332207   -0.006222 -1.161714   \n",
       "10       min_dist         107.152915       103.237854    3.915060  8.206584   \n",
       "11           sc97           0.822697         0.815186    0.007511  1.668745   \n",
       "12            sex           0.519317         0.505052    0.014265  2.506686   \n",
       "13  welfare_index         655.428377       659.579100   -4.150723 -3.188594   \n",
       "\n",
       "         p-value  \n",
       "0   4.785594e-01  \n",
       "1   8.415005e-04  \n",
       "2   3.569843e-02  \n",
       "3   4.271039e-01  \n",
       "4   6.890151e-01  \n",
       "5   1.796243e-06  \n",
       "6   1.105093e-02  \n",
       "7   5.711858e-01  \n",
       "8   3.253835e-04  \n",
       "9   2.453603e-01  \n",
       "10  2.358312e-16  \n",
       "11  9.517806e-02  \n",
       "12  1.219172e-02  \n",
       "13  1.431016e-03  "
      ]
     },
     "execution_count": 5,
     "metadata": {},
     "output_type": "execute_result"
    }
   ],
   "source": [
    "columns = ['sex', 'indig', 'dist_sec', 'fam_n',\n",
    "       'min_dist', 'dist_cap', 'hohedu', 'hohwag',\n",
    "       'welfare_index', 'hohsex', 'hohage', 'age', 'grc97', 'sc97']\n",
    "columns = sorted(columns, key=str.lower)\n",
    "\n",
    "data = []\n",
    "for column in columns:\n",
    "    row = []\n",
    "    row.append(column)\n",
    "    \n",
    "    treatment = df[df.year == 97][df.progresa == 1][df.poor == 1][column]\n",
    "    control = df[df.year == 97][df.progresa == 0][df.poor == 1][column]\n",
    "    treat_mean = treatment.mean()\n",
    "    control_mean = control.mean()\n",
    "    \n",
    "    row.append(treat_mean)\n",
    "    row.append(control_mean)\n",
    "    row.append(treat_mean - control_mean)\n",
    "    \n",
    "    tstat, pval = stats.ttest_ind(treatment, control, nan_policy='omit')\n",
    "    row.append(tstat)\n",
    "    row.append(pval)\n",
    "    \n",
    "    data.append(row)\n",
    "\n",
    "summary = pd.DataFrame(data)\n",
    "summary.columns = ['variable', 'average Treatment', 'average Control', 'difference', 't-stat', 'p-value']\n",
    "summary"
   ]
  },
  {
   "cell_type": "markdown",
   "metadata": {
    "ein.tags": "worksheet-0",
    "slideshow": {
     "slide_type": "-"
    }
   },
   "source": [
    "### 1.3 Interpretation\n",
    "\n",
    "* A: Are there statistically significant differences between treatment and control villages as baseline? \n",
    "* B: Why does it matter if there are differences at baseline?\n",
    "* C: What does this imply about how to measure the impact of the treatment?"
   ]
  },
  {
   "cell_type": "markdown",
   "metadata": {
    "ein.tags": "worksheet-0",
    "slideshow": {
     "slide_type": "-"
    }
   },
   "source": [
    "A:\n",
    "\n",
    "There are some statistically significant differences between control and treatment. They are in average distance to the capital, distance to secondary school, head of house age, head of house education, head of house wages, min distance to urban centers, sex, and welfare index.\n",
    "\n",
    "B:\n",
    "\n",
    "If there are differences at baseline, that means that the variables were different to begin with. This matters because if the variables were different to begin with, that means the differences cannot be attributed to the effects of the treatment.\n",
    "\n",
    "C:\n",
    "\n",
    "This implies that the differences cannot be directly attributed to or impacted by the treatment because the variables were different to begin with."
   ]
  },
  {
   "cell_type": "markdown",
   "metadata": {
    "ein.tags": "worksheet-0",
    "slideshow": {
     "slide_type": "-"
    }
   },
   "source": [
    "### 1.4 Graphical exploration, part 1\n",
    "\n",
    "For each level of household head education, compute the average\n",
    "enrollment rate in 1997. Create a scatterplot that shows this\n",
    "relationship. What do you notice?"
   ]
  },
  {
   "cell_type": "code",
   "execution_count": 6,
   "metadata": {
    "autoscroll": false,
    "ein.tags": "worksheet-0",
    "slideshow": {
     "slide_type": "-"
    }
   },
   "outputs": [
    {
     "data": {
      "image/png": "[encoded data removed]",
      "text/plain": [
       "<matplotlib.figure.Figure at 0x109050f98>"
      ]
     },
     "metadata": {},
     "output_type": "display_data"
    }
   ],
   "source": [
    "df2 = pd.DataFrame(data=df, columns=['year', 'hohedu', 'sc'])\n",
    "\n",
    "y = df2[df2.year != 98].groupby('hohedu').mean()['sc']\n",
    "\n",
    "x = y.index\n",
    "\n",
    "plt.scatter(x,y)\n",
    "plt.title(\"Level of Household Education and Average Enrollment Rate\")\n",
    "plt.xlabel(\"Level of Household Education\")\n",
    "plt.ylabel(\"Average Enrollment Rate\")\n",
    "plt.show()"
   ]
  },
  {
   "cell_type": "markdown",
   "metadata": {
    "ein.tags": "worksheet-0",
    "slideshow": {
     "slide_type": "-"
    }
   },
   "source": [
    "It trends upwards. Except this outlier at 20, though the \"average\" at 20 is not particularly useful as there are only 2 data points where the head of house had 20 years education."
   ]
  },
  {
   "cell_type": "markdown",
   "metadata": {
    "ein.tags": "worksheet-0",
    "slideshow": {
     "slide_type": "-"
    }
   },
   "source": [
    "### 1.5 Graphical exploration, part 2\n",
    "\n",
    "Create a histogram of village enrollment rates **among poor households\n",
    "in treated villages**, before and after treatment.  Specifically, for\n",
    "each village, calculate the average rate of enrollment of poor\n",
    "households in treated villages in 1997, then compute the average rate\n",
    "of enrollment of poor households in treated villages in 1998. Create\n",
    "two separate histograms showing the distribution of these average\n",
    "enrollments rates, one histogram for 1997 and one histogram for\n",
    "1998. On each histogram, draw a vertical line that intersects the\n",
    "x-axis at the average value (across all households). Does there appear\n",
    "to be a difference? Is this difference statistically significant?"
   ]
  },
  {
   "cell_type": "code",
   "execution_count": 10,
   "metadata": {
    "autoscroll": false,
    "ein.tags": "worksheet-0",
    "slideshow": {
     "slide_type": "-"
    }
   },
   "outputs": [
    {
     "name": "stderr",
     "output_type": "stream",
     "text": [
      "/Users/joermotto/anaconda3/lib/python3.6/site-packages/ipykernel_launcher.py:1: UserWarning: Boolean Series key will be reindexed to match DataFrame index.\n",
      "  \"\"\"Entry point for launching an IPython kernel.\n"
     ]
    },
    {
     "data": {
      "text/plain": [
       "<matplotlib.lines.Line2D at 0x108fa95c0>"
      ]
     },
     "execution_count": 10,
     "metadata": {},
     "output_type": "execute_result"
    },
    {
     "data": {
      "image/png": "[encoded data removed]",
      "text/plain": [
       "<matplotlib.figure.Figure at 0x108f19390>"
      ]
     },
     "metadata": {},
     "output_type": "display_data"
    }
   ],
   "source": [
    "pre_df = df[df.year == 97][df.progresa == 1][df.poor == 1]\n",
    "previllages = pre_df.village.unique()\n",
    "predata = []\n",
    "\n",
    "for village in previllages:\n",
    "    predata.append(pre_df[pre_df.village == village].sc.mean())\n",
    "\n",
    "preave = pre_df.sc.mean()\n",
    "\n",
    "plt.hist(predata,\n",
    "         bins = 30,\n",
    "         linewidth = 0.1)\n",
    "\n",
    "plt.xlim(0.4,1)\n",
    "plt.gcf().set_size_inches(15,10)\n",
    "plt.xlabel('Enrollment Rate')\n",
    "plt.ylabel('Number of Villages')\n",
    "plt.title('Enrollment Rates Pre Treatment', fontsize=20)\n",
    "plt.axvline(preave, color='red')"
   ]
  },
  {
   "cell_type": "code",
   "execution_count": 11,
   "metadata": {},
   "outputs": [
    {
     "name": "stderr",
     "output_type": "stream",
     "text": [
      "/Users/joermotto/anaconda3/lib/python3.6/site-packages/ipykernel_launcher.py:1: UserWarning: Boolean Series key will be reindexed to match DataFrame index.\n",
      "  \"\"\"Entry point for launching an IPython kernel.\n"
     ]
    },
    {
     "name": "stdout",
     "output_type": "stream",
     "text": [
      "mean 0.8464791213954308\n"
     ]
    },
    {
     "data": {
      "text/plain": [
       "<matplotlib.lines.Line2D at 0x107167cc0>"
      ]
     },
     "execution_count": 11,
     "metadata": {},
     "output_type": "execute_result"
    },
    {
     "data": {
      "image/png": "[encoded data removed]",
      "text/plain": [
       "<matplotlib.figure.Figure at 0x107167da0>"
      ]
     },
     "metadata": {},
     "output_type": "display_data"
    }
   ],
   "source": [
    "post_df = df[df.year == 98][df.progresa == 1][df.poor == 1]\n",
    "postvillages = post_df.village.unique()\n",
    "postdata = []\n",
    "\n",
    "for village in postvillages:\n",
    "    postdata.append(post_df[post_df.village == village].sc.mean())\n",
    "\n",
    "postave = post_df.sc.mean()\n",
    "\n",
    "print ('mean ' + str(postave))\n",
    "plt.hist(postdata,\n",
    "         bins = 30,\n",
    "         linewidth = 0.1)\n",
    "\n",
    "plt.xlim(0.4,1)\n",
    "plt.gcf().set_size_inches(15,10)\n",
    "plt.xlabel('Enrollment Rate')\n",
    "plt.ylabel('Number of Villages')\n",
    "plt.title('Enrollment Rates Post Treatment', fontsize=20)\n",
    "plt.axvline(preave, color='red')"
   ]
  },
  {
   "cell_type": "code",
   "execution_count": 13,
   "metadata": {},
   "outputs": [
    {
     "name": "stdout",
     "output_type": "stream",
     "text": [
      "Ttest_indResult(statistic=-2.015713486515581, pvalue=0.044248700365727124)\n"
     ]
    }
   ],
   "source": [
    "print (stats.ttest_ind(predata, postdata, nan_policy='omit'))"
   ]
  },
  {
   "cell_type": "markdown",
   "metadata": {
    "ein.tags": "worksheet-0",
    "slideshow": {
     "slide_type": "-"
    }
   },
   "source": [
    "There is a difference between 1997 and 1998 for the distribution of average enrollment rates. The 1998 treated villages are skewed slightly more left than the 1997 treated villages. The averages for 1997 and 1998 are similar. With a p-value of .0442, the p-value is less than .05 meaning that the results are statistically significant."
   ]
  },
  {
   "cell_type": "markdown",
   "metadata": {
    "ein.tags": "worksheet-0",
    "slideshow": {
     "slide_type": "-"
    }
   },
   "source": [
    "## Part 2: Measuring Impact\n",
    "\n",
    "Our goal is to estimate the causal impact of the PROGRESA program on\n",
    "the social and economic outcomes of individuals in Mexico. We will\n",
    "focus on the impact of the program on the poor (those with\n",
    "poor=='pobre'), since only the poor were eligible to receive the\n",
    "PROGRESA assistance.\n",
    "\n",
    "### 2.1 Cross-Sectional Estimator: T-test\n",
    "\n",
    "Begin by estimating the impact of Progresa using \"simple differences.\"\n",
    "Restricting yourself to data from 1998 (after treatment), calculate\n",
    "the average enrollment rate among **poor** households in the Treatment\n",
    "villages and the average enrollment rate among **poor** households in\n",
    "the control villages. Use a t-test to determine if this difference is\n",
    "statistically significant. What do you conclude?"
   ]
  },
  {
   "cell_type": "code",
   "execution_count": 14,
   "metadata": {
    "autoscroll": false,
    "ein.tags": "worksheet-0",
    "slideshow": {
     "slide_type": "-"
    }
   },
   "outputs": [
    {
     "name": "stdout",
     "output_type": "stream",
     "text": [
      "control mean 0.807636956730308\n",
      "treatment mean 0.8464791213954308\n",
      "0.0388421646651228\n",
      "Ttest_indResult(statistic=8.3587205674183735, pvalue=6.6363444473781018e-17)\n"
     ]
    },
    {
     "name": "stderr",
     "output_type": "stream",
     "text": [
      "/Users/joermotto/anaconda3/lib/python3.6/site-packages/ipykernel_launcher.py:1: UserWarning: Boolean Series key will be reindexed to match DataFrame index.\n",
      "  \"\"\"Entry point for launching an IPython kernel.\n",
      "/Users/joermotto/anaconda3/lib/python3.6/site-packages/ipykernel_launcher.py:2: UserWarning: Boolean Series key will be reindexed to match DataFrame index.\n",
      "  \n"
     ]
    }
   ],
   "source": [
    "treat = df[df.year == 98][df.poor == 1][df.progresa == 1]\n",
    "control = df[df.year == 98][df.poor == 1][df.progresa == 0]\n",
    "\n",
    "print ('control mean ' + str(control.sc.mean()))\n",
    "print ('treatment mean ' + str(treat.sc.mean()))\n",
    "print (treat.sc.mean() - control.sc.mean())\n",
    "\n",
    "print (stats.ttest_ind(treat.sc, control.sc, nan_policy='omit'))"
   ]
  },
  {
   "cell_type": "markdown",
   "metadata": {
    "ein.tags": "worksheet-0",
    "slideshow": {
     "slide_type": "-"
    }
   },
   "source": [
    "The p-value is 6.63634e-17 which is extremely small, less than .05. With such a low p-value this means the results between treatment and enrollment are statistically significant."
   ]
  },
  {
   "cell_type": "markdown",
   "metadata": {
    "ein.tags": "worksheet-0",
    "slideshow": {
     "slide_type": "-"
    }
   },
   "source": [
    "### 2.2 Cross-Sectional Estimator: Regression\n",
    "\n",
    "Estimate the effects of Progresa on enrollment using a regression\n",
    "model, by regressing the 1998 enrollment rates **of the poor** on\n",
    "treatment assignment.  Do not include any additional control\n",
    "variables.\n",
    "Discuss the following:\n",
    "\n",
    "* Based on this model, how much did Progresa increase the likelihood of a child enrolling?\n",
    "* How does your regression estimate compare to your t-test estimate from part 2.1?\n",
    "* Based on this regression model, can we reject the null hypothesis that the treatment effects are zero? \n",
    "* What is the counterfactual assumption underlying this regression?\n",
    "\n",
    "Note: I recommend to use statsmodels.formula.api as this allows to use\n",
    "convenient R-style formulas and provedes nice summaries of the results."
   ]
  },
  {
   "cell_type": "code",
   "execution_count": 17,
   "metadata": {
    "autoscroll": false,
    "ein.tags": "worksheet-0",
    "slideshow": {
     "slide_type": "-"
    }
   },
   "outputs": [
    {
     "name": "stdout",
     "output_type": "stream",
     "text": [
      "                            OLS Regression Results                            \n",
      "==============================================================================\n",
      "Dep. Variable:                     sc   R-squared:                       0.003\n",
      "Model:                            OLS   Adj. R-squared:                  0.003\n",
      "Method:                 Least Squares   F-statistic:                     69.87\n",
      "Date:                Wed, 02 May 2018   Prob (F-statistic):           6.64e-17\n",
      "Time:                        17:34:13   Log-Likelihood:                -11926.\n",
      "No. Observations:               27450   AIC:                         2.386e+04\n",
      "Df Residuals:                   27448   BIC:                         2.387e+04\n",
      "Df Model:                           1                                         \n",
      "Covariance Type:            nonrobust                                         \n",
      "==============================================================================\n",
      "                 coef    std err          t      P>|t|      [0.025      0.975]\n",
      "------------------------------------------------------------------------------\n",
      "Intercept      0.8076      0.004    220.676      0.000       0.800       0.815\n",
      "progresa       0.0388      0.005      8.359      0.000       0.030       0.048\n",
      "==============================================================================\n",
      "Omnibus:                     7638.939   Durbin-Watson:                   1.734\n",
      "Prob(Omnibus):                  0.000   Jarque-Bera (JB):            15767.534\n",
      "Skew:                          -1.767   Prob(JB):                         0.00\n",
      "Kurtosis:                       4.140   Cond. No.                         3.01\n",
      "==============================================================================\n",
      "\n",
      "Warnings:\n",
      "[1] Standard Errors assume that the covariance matrix of the errors is correctly specified.\n",
      "Intercept    0.000000e+00\n",
      "progresa     6.636344e-17\n",
      "dtype: float64\n"
     ]
    },
    {
     "name": "stderr",
     "output_type": "stream",
     "text": [
      "/Users/joermotto/anaconda3/lib/python3.6/site-packages/ipykernel_launcher.py:1: UserWarning: Boolean Series key will be reindexed to match DataFrame index.\n",
      "  \"\"\"Entry point for launching an IPython kernel.\n"
     ]
    }
   ],
   "source": [
    "mod = smf.ols(formula='sc ~ progresa', data=df[df.year == 98][df.poor == 1])\n",
    "result = mod.fit()\n",
    "\n",
    "print(result.summary())\n",
    "print(result.pvalues)"
   ]
  },
  {
   "cell_type": "markdown",
   "metadata": {
    "ein.tags": "worksheet-0",
    "slideshow": {
     "slide_type": "-"
    }
   },
   "source": [
    "-Treatment increased the chance of a child enrolling by .0388 acording to this model.\n",
    "\n",
    "-This is the same as the previous simple differnce test. As such the beta of around .0388 is the same as is the pvalue. The standard error is around .0046.\n",
    "\n",
    "-We can reject the null hypothesis that the treatment effect is 0.\n",
    "\n",
    "-As in 2.1 the counterfactual is assumed to be estimated by the control group. There are arguments that this is incorrect."
   ]
  },
  {
   "cell_type": "markdown",
   "metadata": {
    "ein.tags": "worksheet-0",
    "slideshow": {
     "slide_type": "-"
    }
   },
   "source": [
    "### 2.3 Multiple Regression\n",
    "\n",
    "Re-run the above regression estimated but this time include a set of\n",
    "relevant control variables. Include, for instance, age, distance to a secondary\n",
    "school, gender, education of household head, welfare index,\n",
    "indigenous, etc.\n",
    "\n",
    "* How do the controls affect the point estimate of treatment effect?\n",
    "* How do the controls affect the standard error on the treatment effect? \n",
    "* How do you interpret the differences (or similarities) between your estimates of 2.2 and 2.3?"
   ]
  },
  {
   "cell_type": "code",
   "execution_count": 22,
   "metadata": {
    "autoscroll": false,
    "ein.tags": "worksheet-0",
    "slideshow": {
     "slide_type": "-"
    }
   },
   "outputs": [
    {
     "name": "stdout",
     "output_type": "stream",
     "text": [
      "                            OLS Regression Results                            \n",
      "==============================================================================\n",
      "Dep. Variable:                     sc   R-squared:                       0.452\n",
      "Model:                            OLS   Adj. R-squared:                  0.451\n",
      "Method:                 Least Squares   F-statistic:                     1345.\n",
      "Date:                Wed, 02 May 2018   Prob (F-statistic):               0.00\n",
      "Time:                        17:39:49   Log-Likelihood:                -3347.5\n",
      "No. Observations:               26155   AIC:                             6729.\n",
      "Df Residuals:                   26138   BIC:                             6868.\n",
      "Df Model:                          16                                         \n",
      "Covariance Type:            nonrobust                                         \n",
      "=================================================================================\n",
      "                    coef    std err          t      P>|t|      [0.025      0.975]\n",
      "---------------------------------------------------------------------------------\n",
      "Intercept         0.7796      0.021     38.019      0.000       0.739       0.820\n",
      "progresa          0.0319      0.004      9.048      0.000       0.025       0.039\n",
      "sc97              0.4969      0.006     82.295      0.000       0.485       0.509\n",
      "grc97            -0.0258      0.002    -10.743      0.000      -0.030      -0.021\n",
      "grc               0.0373      0.002     15.904      0.000       0.033       0.042\n",
      "age              -0.0458      0.001    -35.134      0.000      -0.048      -0.043\n",
      "dist_sec         -0.0052      0.001     -6.318      0.000      -0.007      -0.004\n",
      "sex               0.0154      0.003      4.512      0.000       0.009       0.022\n",
      "indig             0.0109      0.004      2.593      0.010       0.003       0.019\n",
      "fam_n             0.0007      0.001      0.846      0.397      -0.001       0.002\n",
      "min_dist          0.0002   5.62e-05      3.878      0.000       0.000       0.000\n",
      "dist_cap          0.0001   3.25e-05      3.534      0.000    5.12e-05       0.000\n",
      "hohwag        -2.885e-06   2.47e-06     -1.168      0.243   -7.73e-06    1.96e-06\n",
      "hohedu            0.0038      0.001      4.944      0.000       0.002       0.005\n",
      "welfare_index -1.074e-05   1.61e-05     -0.669      0.504   -4.22e-05    2.07e-05\n",
      "hohage         -9.27e-05      0.000     -0.531      0.595      -0.000       0.000\n",
      "hohsex            0.0134      0.007      1.968      0.049    5.11e-05       0.027\n",
      "==============================================================================\n",
      "Omnibus:                     6043.978   Durbin-Watson:                   1.772\n",
      "Prob(Omnibus):                  0.000   Jarque-Bera (JB):            20975.619\n",
      "Skew:                          -1.147   Prob(JB):                         0.00\n",
      "Kurtosis:                       6.740   Cond. No.                     1.27e+04\n",
      "==============================================================================\n",
      "\n",
      "Warnings:\n",
      "[1] Standard Errors assume that the covariance matrix of the errors is correctly specified.\n",
      "[2] The condition number is large, 1.27e+04. This might indicate that there are\n",
      "strong multicollinearity or other numerical problems.\n",
      "1.54881363905e-19\n"
     ]
    },
    {
     "name": "stderr",
     "output_type": "stream",
     "text": [
      "/Users/joermotto/anaconda3/lib/python3.6/site-packages/ipykernel_launcher.py:1: UserWarning: Boolean Series key will be reindexed to match DataFrame index.\n",
      "  \"\"\"Entry point for launching an IPython kernel.\n"
     ]
    }
   ],
   "source": [
    "mod = smf.ols(formula='sc ~ progresa + sc97 + grc97 + grc + age + dist_sec + sex + indig + fam_n + min_dist + dist_cap + hohwag + hohedu + welfare_index + hohage + hohsex', data=df[df.year == 98][df.poor == 1])\n",
    "result = mod.fit()\n",
    "\n",
    "print(result.summary())\n",
    "print(result.pvalues['progresa'])"
   ]
  },
  {
   "cell_type": "markdown",
   "metadata": {
    "ein.tags": "worksheet-0",
    "slideshow": {
     "slide_type": "-"
    }
   },
   "source": [
    "The controls affect the point estimate of treatment effect by .03.\n",
    "\n",
    "The controls affect the standard error on the treatment effect by .004.\n",
    "\n",
    "The progresa coefficients and standard error in 2.2 and 2.3 are fairly low, showing that while the models are measuring fairly accurately, there is a weak relationship."
   ]
  },
  {
   "cell_type": "markdown",
   "metadata": {
    "ein.tags": "worksheet-0",
    "slideshow": {
     "slide_type": "-"
    }
   },
   "source": [
    "### 2.4 Difference-in-Difference, version 1 (tabular)\n",
    "\n",
    "Thus far, we have computed the effects of Progresa by estimating the\n",
    "difference in 1998 enrollment rates across villages. An alternative\n",
    "approach would be to compute the treatment effect using a\n",
    "difference-in-differences framework.\n",
    "\n",
    "Begin by estimating the average treatment effects of the program for poor households using data from 1997 and 1998. Specifically, calculate:\n",
    "\n",
    "a) the difference (between 1997 and 1998) in enrollment rates among poor households in treated villages\n",
    "\n",
    "b) the difference (between 1997 and 1998) in enrollment rates among poor households in control villages.\n",
    "\n",
    "c) The difference between these two differences is your estimate.\n",
    "\n",
    "* What is your estimate of the impact, and how does it compare to your earlier (simple difference) results?\n",
    "\n",
    "* What is the counterfactual assumption underlying this estimate? \n"
   ]
  },
  {
   "cell_type": "code",
   "execution_count": 29,
   "metadata": {
    "autoscroll": false,
    "ein.tags": "worksheet-0",
    "slideshow": {
     "slide_type": "-"
    }
   },
   "outputs": [
    {
     "name": "stdout",
     "output_type": "stream",
     "text": [
      "0.031331280319323085\n"
     ]
    },
    {
     "name": "stderr",
     "output_type": "stream",
     "text": [
      "/Users/joermotto/anaconda3/lib/python3.6/site-packages/ipykernel_launcher.py:1: UserWarning: Boolean Series key will be reindexed to match DataFrame index.\n",
      "  \"\"\"Entry point for launching an IPython kernel.\n",
      "/Users/joermotto/anaconda3/lib/python3.6/site-packages/ipykernel_launcher.py:2: UserWarning: Boolean Series key will be reindexed to match DataFrame index.\n",
      "  \n",
      "/Users/joermotto/anaconda3/lib/python3.6/site-packages/ipykernel_launcher.py:5: UserWarning: Boolean Series key will be reindexed to match DataFrame index.\n",
      "  \"\"\"\n",
      "/Users/joermotto/anaconda3/lib/python3.6/site-packages/ipykernel_launcher.py:6: UserWarning: Boolean Series key will be reindexed to match DataFrame index.\n",
      "  \n"
     ]
    }
   ],
   "source": [
    "treatpremean = df[df.year == 97][df.progresa == 1][df.poor == 1].sc.mean()\n",
    "treatpostmean = df[df.year == 98][df.progresa == 1][df.poor == 1].sc.mean()\n",
    "treatdiff = treatpostmean - treatpremean\n",
    "\n",
    "controlpremean = df[df.year == 97][df.progresa == 0][df.poor == 1].sc.mean()\n",
    "controlpostmean = df[df.year == 98][df.progresa == 0][df.poor == 1].sc.mean()\n",
    "controldiff = controlpostmean - controlpremean\n",
    "\n",
    "doublediff = treatdiff - controldiff\n",
    "\n",
    "print(doublediff)"
   ]
  },
  {
   "cell_type": "markdown",
   "metadata": {
    "ein.tags": "worksheet-0",
    "slideshow": {
     "slide_type": "-"
    }
   },
   "source": [
    "The estimate of impact is .03133 which is similar to the coefficient found in 2.2 for the relationship between Progresa and enrollment rates of the poor, treated villages (.0388). The counterfactual assumption is that the control and treatment group would be the same before treatment in 1997."
   ]
  },
  {
   "cell_type": "markdown",
   "metadata": {
    "ein.tags": "worksheet-0",
    "slideshow": {
     "slide_type": "-"
    }
   },
   "source": [
    "### 2.5 Difference-in-Difference, version 2 (regression)\n",
    "\n",
    "Now use a regression specification to estimate the average treatment\n",
    "effects of the program in a difference-in-differences\n",
    "framework. Include at least 5 control variables.\n",
    "\n",
    "* What is your estimate of the impact of Progresa? Be very specific in\n",
    "  interpreting your coefficients and standard errors, and make sure to\n",
    "  specify exactly what units you are measuring and estimating.\n",
    "\n",
    "* How do these estimates of the treatment effect compare to the\n",
    "  estimates based on the simple difference?\n",
    "\n",
    "* How do these estimates compare to the difference-in-difference\n",
    "  estimates from 2.4 above? What accounts for these differences?\n",
    "\n",
    "* What is the counterfactual assumption underlying this regression? "
   ]
  },
  {
   "cell_type": "code",
   "execution_count": 32,
   "metadata": {
    "autoscroll": false,
    "ein.tags": "worksheet-0",
    "slideshow": {
     "slide_type": "-"
    }
   },
   "outputs": [
    {
     "name": "stdout",
     "output_type": "stream",
     "text": [
      "                            OLS Regression Results                            \n",
      "==============================================================================\n",
      "Dep. Variable:                     sc   R-squared:                       0.280\n",
      "Model:                            OLS   Adj. R-squared:                  0.280\n",
      "Method:                 Least Squares   F-statistic:                     2949.\n",
      "Date:                Wed, 02 May 2018   Prob (F-statistic):               0.00\n",
      "Time:                        17:53:01   Log-Likelihood:                -20393.\n",
      "No. Observations:               68347   AIC:                         4.081e+04\n",
      "Df Residuals:                   68337   BIC:                         4.090e+04\n",
      "Df Model:                           9                                         \n",
      "Covariance Type:            nonrobust                                         \n",
      "=================================================================================\n",
      "                    coef    std err          t      P>|t|      [0.025      0.975]\n",
      "---------------------------------------------------------------------------------\n",
      "Intercept        -1.4162      0.395     -3.585      0.000      -2.191      -0.642\n",
      "progresa         -2.5099      0.502     -5.003      0.000      -3.493      -1.527\n",
      "year              0.0297      0.004      7.315      0.000       0.022       0.038\n",
      "year:progresa     0.0260      0.005      5.043      0.000       0.016       0.036\n",
      "age              -0.0660      0.000   -155.728      0.000      -0.067      -0.065\n",
      "dist_sec         -0.0113      0.001    -19.287      0.000      -0.012      -0.010\n",
      "sex               0.0331      0.002     13.270      0.000       0.028       0.038\n",
      "hohedu            0.0079      0.000     16.567      0.000       0.007       0.009\n",
      "welfare_index  5.811e-05   9.26e-06      6.273      0.000       4e-05    7.63e-05\n",
      "indig             0.0491      0.003     17.789      0.000       0.044       0.055\n",
      "==============================================================================\n",
      "Omnibus:                     6009.585   Durbin-Watson:                   1.488\n",
      "Prob(Omnibus):                  0.000   Jarque-Bera (JB):             7769.063\n",
      "Skew:                          -0.826   Prob(JB):                         0.00\n",
      "Kurtosis:                       2.995   Cond. No.                     3.46e+05\n",
      "==============================================================================\n",
      "\n",
      "Warnings:\n",
      "[1] Standard Errors assume that the covariance matrix of the errors is correctly specified.\n",
      "[2] The condition number is large, 3.46e+05. This might indicate that there are\n",
      "strong multicollinearity or other numerical problems.\n"
     ]
    }
   ],
   "source": [
    "mod = smf.ols(formula=\"sc ~ progresa + year + year:progresa + age + dist_sec + sex + hohedu + welfare_index + indig\", data=df).fit()\n",
    "print(mod.summary())"
   ]
  },
  {
   "cell_type": "markdown",
   "metadata": {
    "ein.tags": "worksheet-0",
    "slideshow": {
     "slide_type": "-"
    }
   },
   "source": [
    "-This model estimates the impact of progresa as a .0292 change in enrollment rate as a result of the treatment. This effect is very confident with a tiny pvalue of 7.08*10^-8 and accurate to an error |.0054\n",
    "\n",
    "-The estimate is again a bit smaller than the simple differences, both single and multiple.\n",
    "\n",
    "-The estimate is different from 2.4 because this version accounts for all the control variables and their effects.\n",
    "\n",
    "-The counterfactual assumption is again that the treatment group would have, without treatment, changed in the same way as the control group but this time the counterfactual takes into account the control variables."
   ]
  },
  {
   "cell_type": "markdown",
   "metadata": {
    "ein.tags": "worksheet-0",
    "slideshow": {
     "slide_type": "-"
    }
   },
   "source": [
    "### 2.6 Summary\n",
    "\n",
    "* Based on all the analysis you have undertaken to date, do you\n",
    "  believe that Progresa had a causal impact on the enrollment rates of\n",
    "  poor households in Mexico?  Explain by referring to the methods and\n",
    "  results above."
   ]
  },
  {
   "cell_type": "markdown",
   "metadata": {
    "ein.tags": "worksheet-0",
    "slideshow": {
     "slide_type": "-"
    }
   },
   "source": [
    "Based on my analysis I do believe progresa had an impact. Every single model predicted some sort of impact with pretty high levels of statistical significance. If every model is useful, all the models together pointing to the same result is an indication that the result is probably correct. We might consider measuring the pre and post non-poor groups as a second 'control' group. We would take into account control variables of course, but this would help us to model the effect on enrollment of other variables. The counterfactual assumption here would be that the non-poor change in a related way to how the poor treatment group would have changed had it not been treated."
   ]
  },
  {
   "cell_type": "code",
   "execution_count": null,
   "metadata": {
    "collapsed": true
   },
   "outputs": [],
   "source": []
  }
 ],
 "metadata": {
  "kernelspec": {
   "display_name": "Python 3",
   "language": "python",
   "name": "python3"
  },
  "language_info": {
   "codemirror_mode": {
    "name": "ipython",
    "version": 3
   },
   "file_extension": ".py",
   "mimetype": "text/x-python",
   "name": "python",
   "nbconvert_exporter": "python",
   "pygments_lexer": "ipython3",
   "version": "3.6.2"
  },
  "name": "ps03_progresa.ipynb"
 },
 "nbformat": 4,
 "nbformat_minor": 1
}
