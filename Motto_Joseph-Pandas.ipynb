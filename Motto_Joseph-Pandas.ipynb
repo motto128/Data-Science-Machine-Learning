{
 "cells": [
  {
   "cell_type": "markdown",
   "metadata": {
    "ein.tags": "worksheet-0",
    "slideshow": {
     "slide_type": "-"
    }
   },
   "source": [
    "# Problem Set 1, due Apr 11th 1:30pm (start of the class)\n",
    "## Before You Start\n",
    "\n",
    "Please save this notebook as\n",
    "`LASTNAME_FIRSTNAME-PS1.ipynb`. Then edit your renamed file directly in\n",
    "your browser (or emacs if you can ;-) by typing: ``` ipython notebook <name_of_downloaded_file>\n",
    "\n",
    "Please submit\n",
    "* this notebook (as .ipynb)\n",
    "* html or pdf 'final version' of it\n",
    "\n",
    "\n",
    "## Collaboration\n",
    "\n",
    "Working together is useful and fun.  However,\n",
    "\n",
    "* please list all your collaborators' names below here and\n",
    "* submit your own work.  Copy-pasting is not ok.\n",
    "\n",
    "collaborators:\n",
    "\n",
    "* ...\n",
    "\n",
    "## Readings:\n",
    "\n",
    "This problem set assumes you can work with pandas.  Consult McKinney\n",
    "Ch 3 and in particular 5.  Matplotlib is briefly discussed in McKinney Ch 8.\n"
   ]
  },
  {
   "cell_type": "code",
   "execution_count": 5,
   "metadata": {
    "autoscroll": false,
    "ein.tags": "worksheet-0",
    "slideshow": {
     "slide_type": "-"
    }
   },
   "outputs": [
    {
     "name": "stdout",
     "output_type": "stream",
     "text": [
      "Numpy version:        1.13.1\n",
      "SciPy version:        0.19.1\n",
      "Pandas version:       0.20.3\n",
      "Maplotlib version:     2.0.2\n",
      "Scikit-Learn version: 0.19.0\n"
     ]
    }
   ],
   "source": [
    "# Let's import the important packages.  Depending on how do your\n",
    "# exactly proceed, you may need more.  \n",
    "\n",
    "# Numpy is a library for working with Arrays\n",
    "import numpy as np\n",
    "print(\"Numpy version:        %6.6s\" % np.__version__)\n",
    "\n",
    "# SciPy implements many different numerical algorithms\n",
    "import scipy as sp\n",
    "print(\"SciPy version:        %6.6s\" % sp.__version__)\n",
    "\n",
    "# Pandas makes working with data tables easier\n",
    "import pandas as pd\n",
    "print(\"Pandas version:       %6.6s\" % pd.__version__)\n",
    "\n",
    "# Module for plotting\n",
    "import matplotlib \n",
    "print(\"Maplotlib version:    %6.6s\" % matplotlib.__version__)\n",
    "%matplotlib inline\n",
    "# needed for inline plots in notebooks\n",
    "import matplotlib.pyplot as plt  \n",
    "\n",
    "# SciKit Learn implements several Machine Learning algorithms\n",
    "import sklearn\n",
    "print(\"Scikit-Learn version: %6.6s\" % sklearn.__version__)"
   ]
  },
  {
   "cell_type": "markdown",
   "metadata": {
    "ein.tags": "worksheet-0",
    "slideshow": {
     "slide_type": "-"
    }
   },
   "source": [
    "---\n",
    "\n",
    "## Introduction to the assignment\n",
    "\n",
    "For this assignment, you will be using the [Boston Housing Prices Data\n",
    "Set](http://archive.ics.uci.edu/ml/datasets/Housing).  Please read\n",
    "about the dataset carefully before continuing -- it is worth investing\n",
    "a few minutes up front otherwise you are likely to be hopelessly\n",
    "confused! \n",
    "\n"
   ]
  },
  {
   "cell_type": "code",
   "execution_count": 6,
   "metadata": {
    "autoscroll": false,
    "collapsed": true,
    "ein.tags": "worksheet-0",
    "slideshow": {
     "slide_type": "-"
    }
   },
   "outputs": [],
   "source": [
    "from sklearn.datasets import load_boston\n",
    "bdata = load_boston()"
   ]
  },
  {
   "cell_type": "markdown",
   "metadata": {
    "ein.tags": "worksheet-0",
    "slideshow": {
     "slide_type": "-"
    }
   },
   "source": [
    "The following commands will provide some basic information about the shape of the data:"
   ]
  },
  {
   "cell_type": "code",
   "execution_count": 7,
   "metadata": {
    "autoscroll": false,
    "ein.tags": "worksheet-0",
    "slideshow": {
     "slide_type": "-"
    }
   },
   "outputs": [
    {
     "name": "stdout",
     "output_type": "stream",
     "text": [
      "dict_keys(['data', 'target', 'feature_names', 'DESCR'])\n",
      "['CRIM' 'ZN' 'INDUS' 'CHAS' 'NOX' 'RM' 'AGE' 'DIS' 'RAD' 'TAX' 'PTRATIO'\n",
      " 'B' 'LSTAT']\n",
      "(506, 13)\n",
      "(506,)\n",
      "Boston House Prices dataset\n",
      "===========================\n",
      "\n",
      "Notes\n",
      "------\n",
      "Data Set Characteristics:  \n",
      "\n",
      "    :Number of Instances: 506 \n",
      "\n",
      "    :Number of Attributes: 13 numeric/categorical predictive\n",
      "    \n",
      "    :Median Value (attribute 14) is usually the target\n",
      "\n",
      "    :Attribute Information (in order):\n",
      "        - CRIM     per capita crime rate by town\n",
      "        - ZN       proportion of residential land zoned for lots over 25,000 sq.ft.\n",
      "        - INDUS    proportion of non-retail business acres per town\n",
      "        - CHAS     Charles River dummy variable (= 1 if tract bounds river; 0 otherwise)\n",
      "        - NOX      nitric oxides concentration (parts per 10 million)\n",
      "        - RM       average number of rooms per dwelling\n",
      "        - AGE      proportion of owner-occupied units built prior to 1940\n",
      "        - DIS      weighted distances to five Boston employment centres\n",
      "        - RAD      index of accessibility to radial highways\n",
      "        - TAX      full-value property-tax rate per $10,000\n",
      "        - PTRATIO  pupil-teacher ratio by town\n",
      "        - B        1000(Bk - 0.63)^2 where Bk is the proportion of blacks by town\n",
      "        - LSTAT    % lower status of the population\n",
      "        - MEDV     Median value of owner-occupied homes in $1000's\n",
      "\n",
      "    :Missing Attribute Values: None\n",
      "\n",
      "    :Creator: Harrison, D. and Rubinfeld, D.L.\n",
      "\n",
      "This is a copy of UCI ML housing dataset.\n",
      "http://archive.ics.uci.edu/ml/datasets/Housing\n",
      "\n",
      "\n",
      "This dataset was taken from the StatLib library which is maintained at Carnegie Mellon University.\n",
      "\n",
      "The Boston house-price data of Harrison, D. and Rubinfeld, D.L. 'Hedonic\n",
      "prices and the demand for clean air', J. Environ. Economics & Management,\n",
      "vol.5, 81-102, 1978.   Used in Belsley, Kuh & Welsch, 'Regression diagnostics\n",
      "...', Wiley, 1980.   N.B. Various transformations are used in the table on\n",
      "pages 244-261 of the latter.\n",
      "\n",
      "The Boston house-price data has been used in many machine learning papers that address regression\n",
      "problems.   \n",
      "     \n",
      "**References**\n",
      "\n",
      "   - Belsley, Kuh & Welsch, 'Regression diagnostics: Identifying Influential Data and Sources of Collinearity', Wiley, 1980. 244-261.\n",
      "   - Quinlan,R. (1993). Combining Instance-Based and Model-Based Learning. In Proceedings on the Tenth International Conference of Machine Learning, 236-243, University of Massachusetts, Amherst. Morgan Kaufmann.\n",
      "   - many more! (see http://archive.ics.uci.edu/ml/datasets/Housing)\n",
      "\n"
     ]
    }
   ],
   "source": [
    "print(bdata.keys())\n",
    "print(bdata.feature_names)\n",
    "print(bdata.data.shape)\n",
    "print(bdata.target.shape)\n",
    "\n",
    "# uncomment the following if you want to see a lengthy description of the dataset\n",
    "print(bdata.DESCR)"
   ]
  },
  {
   "cell_type": "code",
   "execution_count": 8,
   "metadata": {
    "autoscroll": false,
    "collapsed": true,
    "ein.tags": "worksheet-0",
    "slideshow": {
     "slide_type": "-"
    }
   },
   "outputs": [],
   "source": [
    "boston = pd.DataFrame(bdata.data)"
   ]
  },
  {
   "cell_type": "code",
   "execution_count": 9,
   "metadata": {
    "autoscroll": false,
    "ein.tags": "worksheet-0",
    "slideshow": {
     "slide_type": "-"
    }
   },
   "outputs": [
    {
     "name": "stdout",
     "output_type": "stream",
     "text": [
      "(506, 13)\n"
     ]
    }
   ],
   "source": [
    "boston.columns = bdata.feature_names[:]\n",
    "print(boston.shape)"
   ]
  },
  {
   "cell_type": "markdown",
   "metadata": {
    "ein.tags": "worksheet-0",
    "slideshow": {
     "slide_type": "-"
    }
   },
   "source": [
    "---\n",
    "\n",
    "## Part 1: Descriptive analysis\n",
    "\n",
    "### 1.1: Explore the data\n",
    "\n",
    "Let's dig into the data a bit to see what we're dealing with. The first thing to do is to make sure you understand how the data is organized, what the data types are, whether there is any missing data, and so forth. Get your bearings on your own, then answer the following questions.\n",
    "\n",
    " - 1.1.1: How many different variables are there in the dataset, and how many different observations?\n",
    " - 1.1.2: How many instances are classified as neighborhoods where the tract bounds the Charles River? \n",
    " - 1.1.3: Show that dataset does not contain any missing values.\n",
    " - 1.1.4: Display the property tax rate in the 5 neighborhoods that have the highest median housing price."
   ]
  },
  {
   "cell_type": "code",
   "execution_count": 11,
   "metadata": {
    "autoscroll": false,
    "ein.tags": "worksheet-0",
    "slideshow": {
     "slide_type": "-"
    }
   },
   "outputs": [
    {
     "name": "stdout",
     "output_type": "stream",
     "text": [
      "shape (506, 13)\n",
      "size 6578\n",
      "(35, 13)\n",
      "6578\n",
      "       TAX\n",
      "283  198.0\n",
      "225  307.0\n",
      "369  666.0\n",
      "370  666.0\n",
      "371  666.0\n"
     ]
    }
   ],
   "source": [
    "print(\"shape \" + str(boston.shape))\n",
    "print(\"size \" + str(boston.size))\n",
    "\n",
    "print(boston[boston.CHAS == 1].shape)\n",
    "\n",
    "print(pd.DataFrame.notnull(boston).size)\n",
    "\n",
    "\n",
    "boston['MEDV'] = bdata.target\n",
    "print(boston.sort_values('MEDV', ascending=False).loc[:, ['TAX']].head(5))"
   ]
  },
  {
   "cell_type": "markdown",
   "metadata": {
    "ein.tags": "worksheet-0",
    "slideshow": {
     "slide_type": "-"
    }
   },
   "source": [
    "*Provide our answers below:*\n",
    "\n",
    " - 1.1.1: 13 variables and 6578 observations\n",
    " - 1.1.2: 35 instances where Neighborhoods bound by Charles\n",
    " - 1.1.3: zero missing values because zero items isnull\n",
    " - 1.1.4: 198, 307, 666, 666, 666 (x10,000) is the tax rates for the 5 highest median houseing price neighborhoods."
   ]
  },
  {
   "cell_type": "markdown",
   "metadata": {
    "ein.tags": "worksheet-0",
    "slideshow": {
     "slide_type": "-"
    }
   },
   "source": [
    "### 1.2: Answer some basic questions\n",
    " - 1.2.1: What is the median housing price in Boston's most expensive neighborhood?\n",
    " - 1.2.2: How many neighborhoods have, on average, less than 5 rooms per dwelling?\n",
    " - 1.2.3: What is the property tax rate in the most expensive neighborhood that is also adjacent to the Charles River?\n",
    " - 1.2.4: What is the crime rate in the neighborhood with the highest median housing price? \n",
    " - 1.2.5: What is the crime rate in the neighborhood with the lowest median housing price?"
   ]
  },
  {
   "cell_type": "code",
   "execution_count": 12,
   "metadata": {
    "autoscroll": false,
    "ein.tags": "worksheet-0",
    "slideshow": {
     "slide_type": "-"
    }
   },
   "outputs": [
    {
     "name": "stdout",
     "output_type": "stream",
     "text": [
      "     MEDV\n",
      "283  50.0\n",
      "15\n",
      "       TAX\n",
      "372  666.0\n",
      "        CRIM\n",
      "283  0.01501\n",
      "        CRIM\n",
      "398  38.3518\n"
     ]
    }
   ],
   "source": [
    "print(boston.sort_values('MEDV', ascending=False).loc[:, ['MEDV']].head(1))\n",
    "print(len(boston.loc[boston['RM'] < 5]))\n",
    "print(boston.loc[boston['CHAS'] == 1].sort_values('MEDV', ascending=False).loc[:, ['TAX']].head(1))\n",
    "print(boston.sort_values('MEDV', ascending=False).loc[:, ['CRIM']].head(1))\n",
    "print(boston.sort_values('MEDV', ascending=True).loc[:, ['CRIM']].head(1))"
   ]
  },
  {
   "cell_type": "markdown",
   "metadata": {
    "ein.tags": "worksheet-0",
    "slideshow": {
     "slide_type": "-"
    }
   },
   "source": [
    "*Provide our answers below:*\n",
    "\n",
    " - 1.2.1: 50 (x10,000) is the medean house price in most expensive neighborhood.\n",
    " - 1.2.2: 15 neighborhoods\n",
    " - 1.2.3: 666 (x10,000) is the property tax in the most expensive neighborhoodalso adjacent to the Charles River\n",
    " - 1.2.4: 0.01501 per capita crime rate in highest median housing price\n",
    " - 1.2.5: 38.03518 per capita crime rate in lowest median housing price"
   ]
  },
  {
   "cell_type": "markdown",
   "metadata": {
    "ein.tags": "worksheet-0",
    "slideshow": {
     "slide_type": "-"
    }
   },
   "source": [
    "### 1.3: Summary statistics\n",
    "\n",
    "Create a clean, organized table that shows just the following\n",
    "information (no more, no less) for each variable in the dataset.  Your\n",
    "table should have K rows (one for each variable) and 7\n",
    "columns, ordered as below:\n",
    "\n",
    "- The name of the variable\n",
    "- The number of observations with non-missing values\n",
    "- The mean of the variable\n",
    "- The standard deviation of the variable\n",
    "- The minimum value of the variable\n",
    "- The median of the variable\n",
    "- The maximum value of the variable"
   ]
  },
  {
   "cell_type": "code",
   "execution_count": 13,
   "metadata": {
    "autoscroll": false,
    "ein.tags": "worksheet-0",
    "slideshow": {
     "slide_type": "-"
    }
   },
   "outputs": [
    {
     "data": {
      "text/html": [
       "<div>\n",
       "<style>\n",
       "    .dataframe thead tr:only-child th {\n",
       "        text-align: right;\n",
       "    }\n",
       "\n",
       "    .dataframe thead th {\n",
       "        text-align: left;\n",
       "    }\n",
       "\n",
       "    .dataframe tbody tr th {\n",
       "        vertical-align: top;\n",
       "    }\n",
       "</style>\n",
       "<table border=\"1\" class=\"dataframe\">\n",
       "  <thead>\n",
       "    <tr style=\"text-align: right;\">\n",
       "      <th></th>\n",
       "      <th>Name</th>\n",
       "      <th>Non_Null_Observations</th>\n",
       "      <th>Mean</th>\n",
       "      <th>Std</th>\n",
       "      <th>Min</th>\n",
       "      <th>Median</th>\n",
       "      <th>Max</th>\n",
       "    </tr>\n",
       "  </thead>\n",
       "  <tbody>\n",
       "    <tr>\n",
       "      <th>0</th>\n",
       "      <td>CRIM</td>\n",
       "      <td>506</td>\n",
       "      <td>3.593761</td>\n",
       "      <td>8.596783</td>\n",
       "      <td>0.00632</td>\n",
       "      <td>0.25651</td>\n",
       "      <td>88.9762</td>\n",
       "    </tr>\n",
       "    <tr>\n",
       "      <th>1</th>\n",
       "      <td>ZN</td>\n",
       "      <td>506</td>\n",
       "      <td>11.363636</td>\n",
       "      <td>23.322453</td>\n",
       "      <td>0.00000</td>\n",
       "      <td>0.00000</td>\n",
       "      <td>100.0000</td>\n",
       "    </tr>\n",
       "    <tr>\n",
       "      <th>2</th>\n",
       "      <td>INDUS</td>\n",
       "      <td>506</td>\n",
       "      <td>11.136779</td>\n",
       "      <td>6.860353</td>\n",
       "      <td>0.46000</td>\n",
       "      <td>9.69000</td>\n",
       "      <td>27.7400</td>\n",
       "    </tr>\n",
       "    <tr>\n",
       "      <th>3</th>\n",
       "      <td>CHAS</td>\n",
       "      <td>506</td>\n",
       "      <td>0.069170</td>\n",
       "      <td>0.253994</td>\n",
       "      <td>0.00000</td>\n",
       "      <td>0.00000</td>\n",
       "      <td>1.0000</td>\n",
       "    </tr>\n",
       "    <tr>\n",
       "      <th>4</th>\n",
       "      <td>NOX</td>\n",
       "      <td>506</td>\n",
       "      <td>0.554695</td>\n",
       "      <td>0.115878</td>\n",
       "      <td>0.38500</td>\n",
       "      <td>0.53800</td>\n",
       "      <td>0.8710</td>\n",
       "    </tr>\n",
       "    <tr>\n",
       "      <th>5</th>\n",
       "      <td>RM</td>\n",
       "      <td>506</td>\n",
       "      <td>6.284634</td>\n",
       "      <td>0.702617</td>\n",
       "      <td>3.56100</td>\n",
       "      <td>6.20850</td>\n",
       "      <td>8.7800</td>\n",
       "    </tr>\n",
       "    <tr>\n",
       "      <th>6</th>\n",
       "      <td>AGE</td>\n",
       "      <td>506</td>\n",
       "      <td>68.574901</td>\n",
       "      <td>28.148861</td>\n",
       "      <td>2.90000</td>\n",
       "      <td>77.50000</td>\n",
       "      <td>100.0000</td>\n",
       "    </tr>\n",
       "    <tr>\n",
       "      <th>7</th>\n",
       "      <td>DIS</td>\n",
       "      <td>506</td>\n",
       "      <td>3.795043</td>\n",
       "      <td>2.105710</td>\n",
       "      <td>1.12960</td>\n",
       "      <td>3.20745</td>\n",
       "      <td>12.1265</td>\n",
       "    </tr>\n",
       "    <tr>\n",
       "      <th>8</th>\n",
       "      <td>RAD</td>\n",
       "      <td>506</td>\n",
       "      <td>9.549407</td>\n",
       "      <td>8.707259</td>\n",
       "      <td>1.00000</td>\n",
       "      <td>5.00000</td>\n",
       "      <td>24.0000</td>\n",
       "    </tr>\n",
       "    <tr>\n",
       "      <th>9</th>\n",
       "      <td>TAX</td>\n",
       "      <td>506</td>\n",
       "      <td>408.237154</td>\n",
       "      <td>168.537116</td>\n",
       "      <td>187.00000</td>\n",
       "      <td>330.00000</td>\n",
       "      <td>711.0000</td>\n",
       "    </tr>\n",
       "    <tr>\n",
       "      <th>10</th>\n",
       "      <td>PTRATIO</td>\n",
       "      <td>506</td>\n",
       "      <td>18.455534</td>\n",
       "      <td>2.164946</td>\n",
       "      <td>12.60000</td>\n",
       "      <td>19.05000</td>\n",
       "      <td>22.0000</td>\n",
       "    </tr>\n",
       "    <tr>\n",
       "      <th>11</th>\n",
       "      <td>B</td>\n",
       "      <td>506</td>\n",
       "      <td>356.674032</td>\n",
       "      <td>91.294864</td>\n",
       "      <td>0.32000</td>\n",
       "      <td>391.44000</td>\n",
       "      <td>396.9000</td>\n",
       "    </tr>\n",
       "    <tr>\n",
       "      <th>12</th>\n",
       "      <td>LSTAT</td>\n",
       "      <td>506</td>\n",
       "      <td>12.653063</td>\n",
       "      <td>7.141062</td>\n",
       "      <td>1.73000</td>\n",
       "      <td>11.36000</td>\n",
       "      <td>37.9700</td>\n",
       "    </tr>\n",
       "    <tr>\n",
       "      <th>13</th>\n",
       "      <td>MEDV</td>\n",
       "      <td>506</td>\n",
       "      <td>22.532806</td>\n",
       "      <td>9.197104</td>\n",
       "      <td>5.00000</td>\n",
       "      <td>21.20000</td>\n",
       "      <td>50.0000</td>\n",
       "    </tr>\n",
       "  </tbody>\n",
       "</table>\n",
       "</div>"
      ],
      "text/plain": [
       "       Name  Non_Null_Observations        Mean         Std        Min  \\\n",
       "0      CRIM                    506    3.593761    8.596783    0.00632   \n",
       "1        ZN                    506   11.363636   23.322453    0.00000   \n",
       "2     INDUS                    506   11.136779    6.860353    0.46000   \n",
       "3      CHAS                    506    0.069170    0.253994    0.00000   \n",
       "4       NOX                    506    0.554695    0.115878    0.38500   \n",
       "5        RM                    506    6.284634    0.702617    3.56100   \n",
       "6       AGE                    506   68.574901   28.148861    2.90000   \n",
       "7       DIS                    506    3.795043    2.105710    1.12960   \n",
       "8       RAD                    506    9.549407    8.707259    1.00000   \n",
       "9       TAX                    506  408.237154  168.537116  187.00000   \n",
       "10  PTRATIO                    506   18.455534    2.164946   12.60000   \n",
       "11        B                    506  356.674032   91.294864    0.32000   \n",
       "12    LSTAT                    506   12.653063    7.141062    1.73000   \n",
       "13     MEDV                    506   22.532806    9.197104    5.00000   \n",
       "\n",
       "       Median       Max  \n",
       "0     0.25651   88.9762  \n",
       "1     0.00000  100.0000  \n",
       "2     9.69000   27.7400  \n",
       "3     0.00000    1.0000  \n",
       "4     0.53800    0.8710  \n",
       "5     6.20850    8.7800  \n",
       "6    77.50000  100.0000  \n",
       "7     3.20745   12.1265  \n",
       "8     5.00000   24.0000  \n",
       "9   330.00000  711.0000  \n",
       "10   19.05000   22.0000  \n",
       "11  391.44000  396.9000  \n",
       "12   11.36000   37.9700  \n",
       "13   21.20000   50.0000  "
      ]
     },
     "execution_count": 13,
     "metadata": {},
     "output_type": "execute_result"
    }
   ],
   "source": [
    "observations = boston.notnull().sum()\n",
    "means = boston.mean()\n",
    "stds = boston.std(axis=0)\n",
    "mins = boston.min()\n",
    "medians = boston.median()\n",
    "maxes = boston.max()\n",
    "\n",
    "sumStats = pd.concat([observations, means, stds, mins, medians, maxes], axis=1).reset_index()\n",
    "sumStats.columns = ['Name', 'Non_Null_Observations', 'Mean', 'Std', 'Min', 'Median', 'Max']\n",
    "sumStats"
   ]
  },
  {
   "cell_type": "markdown",
   "metadata": {
    "ein.tags": "worksheet-0",
    "slideshow": {
     "slide_type": "-"
    }
   },
   "source": [
    "### 1.4 Simple statistical test\n",
    "\n",
    "Using a t-test, compare the median house value in locations that are\n",
    "adjacent to the Charles River to locations that are not adjacent to\n",
    "the Charles River. Do you reject the null hypothesis that prices are\n",
    "equivalent?"
   ]
  },
  {
   "cell_type": "code",
   "execution_count": 14,
   "metadata": {
    "autoscroll": false,
    "ein.tags": "worksheet-0",
    "slideshow": {
     "slide_type": "-"
    }
   },
   "outputs": [
    {
     "data": {
      "text/plain": [
       "Ttest_indResult(statistic=array([ 3.99643747]), pvalue=array([  7.39062317e-05]))"
      ]
     },
     "execution_count": 14,
     "metadata": {},
     "output_type": "execute_result"
    }
   ],
   "source": [
    "nearChas = boston.loc[boston['CHAS'] == 1].loc[:, ['MEDV']]\n",
    "notNearChas = boston.loc[boston['CHAS'] != 1].loc[:, ['MEDV']]\n",
    "sp.stats.ttest_ind(nearChas,notNearChas)"
   ]
  },
  {
   "cell_type": "markdown",
   "metadata": {
    "ein.tags": "worksheet-0",
    "slideshow": {
     "slide_type": "-"
    }
   },
   "source": [
    "*Write your response here.*"
   ]
  },
  {
   "cell_type": "markdown",
   "metadata": {
    "ein.tags": "worksheet-0",
    "slideshow": {
     "slide_type": "-"
    }
   },
   "source": [
    "## Part 2: Histograms and Scatterplots\n",
    "\n",
    "\n",
    "### 2.1: Histogram of housing prices\n",
    "\n",
    "Below you will find some very basic code to make a very basic\n",
    "histogram of median housing prices (the \"target\" variable) for your\n",
    "dataset.  Your first task is to make this graph look pretty by doing\n",
    "the following:\n",
    "\n",
    "1. Add appropriate labels to the x and y axes, make sure to include units\n",
    "2. Change the bin width on the histogram to be $1000\n",
    "3. Remove the axes on the top and right side of the plot window\n",
    "4. Change the color of the bars to be green, and remove the black borders from the bars\n"
   ]
  },
  {
   "cell_type": "code",
   "execution_count": 15,
   "metadata": {
    "autoscroll": false,
    "ein.tags": "worksheet-0",
    "slideshow": {
     "slide_type": "-"
    }
   },
   "outputs": [
    {
     "data": {
      "image/png": "[encoded data removed]",
      "text/plain": [
       "<matplotlib.figure.Figure at 0x1a1a8f3828>"
      ]
     },
     "metadata": {},
     "output_type": "display_data"
    }
   ],
   "source": [
    "# edit the code below to make the graph look good\n",
    "#plt.hist(bdata.target)\n",
    "n, bins, patches = plt.hist(bdata.target, 50, color='lightgreen', lw=0)\n",
    "\n",
    "plt.xlabel('Median Housing Value ($1,000)')\n",
    "plt.ylabel('Count of Neighborhoods')\n",
    "\n",
    "ax = plt.subplot()\n",
    "# Hide the right and top spines\n",
    "ax.spines['right'].set_visible(False)\n",
    "ax.spines['top'].set_visible(False)\n",
    "\n",
    "# Only show ticks on the left and bottom spines\n",
    "ax.yaxis.set_ticks_position('left')\n",
    "ax.xaxis.set_ticks_position('bottom')\n",
    "\n",
    "plt.show()\n"
   ]
  },
  {
   "cell_type": "markdown",
   "metadata": {
    "ein.tags": "worksheet-0",
    "slideshow": {
     "slide_type": "-"
    }
   },
   "source": [
    "### 2.2: Scatter plot of housing prices and crime\n",
    "\n",
    "Use matplotlib to create a scatter plot that shows the relationship\n",
    "between the median value of the home (y-axis) and the per-capita crime\n",
    "rate (x-axis).  Properly label your axes, and make sure that your\n",
    "graphic looks polished and professional.\n"
   ]
  },
  {
   "cell_type": "code",
   "execution_count": 16,
   "metadata": {
    "autoscroll": false,
    "ein.tags": "worksheet-0",
    "slideshow": {
     "slide_type": "-"
    }
   },
   "outputs": [
    {
     "data": {
      "image/png": "[encoded data removed]",
      "text/plain": [
       "<matplotlib.figure.Figure at 0x1a1a9e5908>"
      ]
     },
     "metadata": {},
     "output_type": "display_data"
    },
    {
     "name": "stdout",
     "output_type": "stream",
     "text": [
      "Correlation Coefficient: -0.385831689884\n"
     ]
    }
   ],
   "source": [
    "plt.scatter(boston['CRIM'], boston['MEDV'], alpha=0.4)\n",
    "\n",
    "plt.ylabel('Median Housing Value ($1,000)')\n",
    "plt.xlabel('Crime rate per capita')\n",
    "\n",
    "ax = plt.subplot()\n",
    "# Hide the right and top spines\n",
    "ax.spines['right'].set_visible(False)\n",
    "ax.spines['top'].set_visible(False)\n",
    "\n",
    "# Only show ticks on the left and bottom spines\n",
    "ax.yaxis.set_ticks_position('left')\n",
    "ax.xaxis.set_ticks_position('bottom')\n",
    "\n",
    "plt.show()\n",
    "r = np.corrcoef(boston['MEDV'], boston['CRIM'])\n",
    "print('Correlation Coefficient: ' + str(r[0,1]))\n"
   ]
  },
  {
   "cell_type": "markdown",
   "metadata": {
    "ein.tags": "worksheet-0",
    "slideshow": {
     "slide_type": "-"
    }
   },
   "source": [
    "### 2.3: Interpret\n",
    "\n",
    "What do you observe in the above scatter plot? Does there appear to be\n",
    "a relationship between crime rates and housing prices in Boston?\n",
    "Calculate the correlation between these two variables. Do you think\n",
    "this relationship is causal, or just a correlation? Justify your\n",
    "position."
   ]
  },
  {
   "cell_type": "markdown",
   "metadata": {
    "ein.tags": "worksheet-0",
    "slideshow": {
     "slide_type": "-"
    }
   },
   "source": [
    "Looking at the scatter plot, it looks like the pattern is decreasing in a negative direction. After calculating the correlation coefficient -0.3858 this indicates a negative correlation between per-capita crime rate and median value of owner-occupied homes. However, the correlation coefficient is neither close to 1 or -1 but closest to 0. The value 0 indicates no correlation, but because the value is negative, this relationship is considered to be a slightly negative correlation and not at all a strong negative correlation.\n",
    "\n",
    "This relationship is correlational, especially with a low correlation value. However because the value is closest to 0 (no correlation) rather than -1, the slight negative correlation may be influenced by unaccounted confounding variables affecting the results. There is no evidence to suggest causality. It is likely that areas with higher median housing value are richer areas with lower crime rates due to characteristics of the people who choose to live in a more expensive area of housing. Conversely, lower cost areas may have lower-income populations that are more prone to crime."
   ]
  },
  {
   "cell_type": "markdown",
   "metadata": {
    "ein.tags": "worksheet-0",
    "slideshow": {
     "slide_type": "-"
    }
   },
   "source": [
    "### 2.4 Correlation Matrix\n",
    "\n",
    "Calculate the correlation of every pair of variables in the\n",
    "dataset. Create a *K* x *K* matrix where the value in the (*i*,*j*)\n",
    "cell is the correlation between the *i*th and *j*th variable. Show off\n",
    "your skills by coloring the cell so that large positive correlations\n",
    "appear green and large negative correlations appear red (use a\n",
    "gradient to make this pretty). What two variables appear to me most\n",
    "positively and negatively correlated?"
   ]
  },
  {
   "cell_type": "code",
   "execution_count": 17,
   "metadata": {
    "autoscroll": false,
    "ein.tags": "worksheet-0",
    "slideshow": {
     "slide_type": "-"
    }
   },
   "outputs": [
    {
     "data": {
      "text/plain": [
       "(array([  0.5,   1.5,   2.5,   3.5,   4.5,   5.5,   6.5,   7.5,   8.5,\n",
       "          9.5,  10.5,  11.5,  12.5,  13.5]),\n",
       " <a list of 14 Text xticklabel objects>)"
      ]
     },
     "execution_count": 17,
     "metadata": {},
     "output_type": "execute_result"
    },
    {
     "data": {
      "image/png": "[encoded data removed]",
      "text/plain": [
       "<matplotlib.figure.Figure at 0x1159269b0>"
      ]
     },
     "metadata": {},
     "output_type": "display_data"
    }
   ],
   "source": [
    "import seaborn as sns\n",
    "\n",
    "# Choosing the red and green color gradient\n",
    "cmap = sns.diverging_palette(373, 120, as_cmap=True)\n",
    "plt.title(\"Boston correlation matrix\")\n",
    "\n",
    "corr = boston.corr()\n",
    "sns.heatmap(corr, xticklabels=corr.columns.values, yticklabels=corr.columns.values, cmap=cmap)\n",
    "plt.xticks(rotation=45)"
   ]
  },
  {
   "cell_type": "markdown",
   "metadata": {
    "ein.tags": "worksheet-0",
    "slideshow": {
     "slide_type": "-"
    }
   },
   "source": [
    "Looking at the correlation matrix, the variables most positively correlated are property tax rate per ten thousand dollars and index of accessibility to radial highways (RAD). These are the darkest green boxes. The variables most negatively correlated are proportion of non-retail business acres per town (INDUS) and weighted distances to five Boston employment centres (DIS), DIS and nitric oxides concentration (NOX), proportion of owner-occupied units built (AGE) and DIS, and percent lower status of the population and median value of owner-occupied homes in thousands (MEDV). These are indicated by the darker red squares."
   ]
  },
  {
   "cell_type": "markdown",
   "metadata": {
    "ein.tags": "worksheet-0",
    "slideshow": {
     "slide_type": "-"
    }
   },
   "source": [
    "### 2.5 Create your own (creative and effective) visualization\n",
    "\n",
    "Use another type of graph or chart to illustrate an interesting\n",
    "pattern in the data.  Be creative in your visualization, and make sure\n",
    "to produce a \"publication-quality\" graph.  Points will be given for\n",
    "useful and creative graphs; points will be deducted for confusing\n",
    "issues like unlabeled axes.  If you're new to data visualization,\n",
    "[this guide](http://pubs.aeaweb.org/doi/pdfplus/10.1257/jep.28.1.209)\n",
    "is a good place to start."
   ]
  },
  {
   "cell_type": "code",
   "execution_count": 22,
   "metadata": {
    "autoscroll": false,
    "ein.tags": "worksheet-0",
    "slideshow": {
     "slide_type": "-"
    }
   },
   "outputs": [
    {
     "data": {
      "text/plain": [
       "<matplotlib.text.Text at 0x1a1b6c6b70>"
      ]
     },
     "execution_count": 22,
     "metadata": {},
     "output_type": "execute_result"
    },
    {
     "data": {
      "image/png": "[encoded data removed]",
      "text/plain": [
       "<matplotlib.figure.Figure at 0x1a1b5c94a8>"
      ]
     },
     "metadata": {},
     "output_type": "display_data"
    }
   ],
   "source": [
    "# stacked area chart\n",
    "df = pd.DataFrame(boston, columns=['MEDV', 'RM'])\n",
    "df.plot.area();\n",
    "\n",
    "plt.xlabel(\"Entry\")\n",
    "plt.ylabel('Value')\n",
    "plt.title('Distribution of MEDV and RM')"
   ]
  },
  {
   "cell_type": "code",
   "execution_count": null,
   "metadata": {
    "collapsed": true
   },
   "outputs": [],
   "source": []
  }
 ],
 "metadata": {
  "kernelspec": {
   "display_name": "Python 3",
   "language": "python",
   "name": "python3"
  },
  "language_info": {
   "codemirror_mode": {
    "name": "ipython",
    "version": 3
   },
   "file_extension": ".py",
   "mimetype": "text/x-python",
   "name": "python",
   "nbconvert_exporter": "python",
   "pygments_lexer": "ipython3",
   "version": "3.6.2"
  },
  "name": "ps01_pandas.ipynb"
 },
 "nbformat": 4,
 "nbformat_minor": 2
}
