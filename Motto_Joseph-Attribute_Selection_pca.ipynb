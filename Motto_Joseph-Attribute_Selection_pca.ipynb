{
 "cells": [
  {
   "cell_type": "code",
   "execution_count": 2,
   "metadata": {},
   "outputs": [
    {
     "name": "stderr",
     "output_type": "stream",
     "text": [
      "/Users/joermotto/anaconda3/lib/python3.6/site-packages/statsmodels/compat/pandas.py:56: FutureWarning: The pandas.core.datetools module is deprecated and will be removed in a future version. Please use the pandas.tseries module instead.\n",
      "  from pandas.core import datetools\n"
     ]
    }
   ],
   "source": [
    "import numpy as np\n",
    "import pandas as pd\n",
    "import sklearn\n",
    "from sklearn import linear_model\n",
    "from sklearn.decomposition import PCA\n",
    "from sklearn.datasets import load_boston\n",
    "\n",
    "from sklearn.model_selection import cross_val_score\n",
    "from sklearn.linear_model import LinearRegression\n",
    "from sklearn.cross_validation import train_test_split\n",
    "\n",
    "import matplotlib \n",
    "%matplotlib inline\n",
    "import matplotlib.pyplot as plt  \n",
    "\n",
    "import statsmodels.api as sm"
   ]
  },
  {
   "cell_type": "markdown",
   "metadata": {},
   "source": [
    "<h1> 1 Active data exploration"
   ]
  },
  {
   "cell_type": "code",
   "execution_count": 5,
   "metadata": {},
   "outputs": [
    {
     "data": {
      "text/html": [
       "<div>\n",
       "<style>\n",
       "    .dataframe thead tr:only-child th {\n",
       "        text-align: right;\n",
       "    }\n",
       "\n",
       "    .dataframe thead th {\n",
       "        text-align: left;\n",
       "    }\n",
       "\n",
       "    .dataframe tbody tr th {\n",
       "        vertical-align: top;\n",
       "    }\n",
       "</style>\n",
       "<table border=\"1\" class=\"dataframe\">\n",
       "  <thead>\n",
       "    <tr style=\"text-align: right;\">\n",
       "      <th></th>\n",
       "      <th>CRIM</th>\n",
       "      <th>ZN</th>\n",
       "      <th>INDUS</th>\n",
       "      <th>CHAS</th>\n",
       "      <th>NOX</th>\n",
       "      <th>RM</th>\n",
       "      <th>AGE</th>\n",
       "      <th>DIS</th>\n",
       "      <th>RAD</th>\n",
       "      <th>TAX</th>\n",
       "      <th>PTRATIO</th>\n",
       "      <th>B</th>\n",
       "      <th>LSTAT</th>\n",
       "      <th>MEDV</th>\n",
       "    </tr>\n",
       "  </thead>\n",
       "  <tbody>\n",
       "    <tr>\n",
       "      <th>0</th>\n",
       "      <td>0.00632</td>\n",
       "      <td>18.0</td>\n",
       "      <td>2.31</td>\n",
       "      <td>0.0</td>\n",
       "      <td>0.538</td>\n",
       "      <td>6.575</td>\n",
       "      <td>65.2</td>\n",
       "      <td>4.0900</td>\n",
       "      <td>1.0</td>\n",
       "      <td>296.0</td>\n",
       "      <td>15.3</td>\n",
       "      <td>396.90</td>\n",
       "      <td>4.98</td>\n",
       "      <td>24.0</td>\n",
       "    </tr>\n",
       "    <tr>\n",
       "      <th>1</th>\n",
       "      <td>0.02731</td>\n",
       "      <td>0.0</td>\n",
       "      <td>7.07</td>\n",
       "      <td>0.0</td>\n",
       "      <td>0.469</td>\n",
       "      <td>6.421</td>\n",
       "      <td>78.9</td>\n",
       "      <td>4.9671</td>\n",
       "      <td>2.0</td>\n",
       "      <td>242.0</td>\n",
       "      <td>17.8</td>\n",
       "      <td>396.90</td>\n",
       "      <td>9.14</td>\n",
       "      <td>21.6</td>\n",
       "    </tr>\n",
       "    <tr>\n",
       "      <th>2</th>\n",
       "      <td>0.02729</td>\n",
       "      <td>0.0</td>\n",
       "      <td>7.07</td>\n",
       "      <td>0.0</td>\n",
       "      <td>0.469</td>\n",
       "      <td>7.185</td>\n",
       "      <td>61.1</td>\n",
       "      <td>4.9671</td>\n",
       "      <td>2.0</td>\n",
       "      <td>242.0</td>\n",
       "      <td>17.8</td>\n",
       "      <td>392.83</td>\n",
       "      <td>4.03</td>\n",
       "      <td>34.7</td>\n",
       "    </tr>\n",
       "    <tr>\n",
       "      <th>3</th>\n",
       "      <td>0.03237</td>\n",
       "      <td>0.0</td>\n",
       "      <td>2.18</td>\n",
       "      <td>0.0</td>\n",
       "      <td>0.458</td>\n",
       "      <td>6.998</td>\n",
       "      <td>45.8</td>\n",
       "      <td>6.0622</td>\n",
       "      <td>3.0</td>\n",
       "      <td>222.0</td>\n",
       "      <td>18.7</td>\n",
       "      <td>394.63</td>\n",
       "      <td>2.94</td>\n",
       "      <td>33.4</td>\n",
       "    </tr>\n",
       "    <tr>\n",
       "      <th>4</th>\n",
       "      <td>0.06905</td>\n",
       "      <td>0.0</td>\n",
       "      <td>2.18</td>\n",
       "      <td>0.0</td>\n",
       "      <td>0.458</td>\n",
       "      <td>7.147</td>\n",
       "      <td>54.2</td>\n",
       "      <td>6.0622</td>\n",
       "      <td>3.0</td>\n",
       "      <td>222.0</td>\n",
       "      <td>18.7</td>\n",
       "      <td>396.90</td>\n",
       "      <td>5.33</td>\n",
       "      <td>36.2</td>\n",
       "    </tr>\n",
       "  </tbody>\n",
       "</table>\n",
       "</div>"
      ],
      "text/plain": [
       "      CRIM    ZN  INDUS  CHAS    NOX     RM   AGE     DIS  RAD    TAX  \\\n",
       "0  0.00632  18.0   2.31   0.0  0.538  6.575  65.2  4.0900  1.0  296.0   \n",
       "1  0.02731   0.0   7.07   0.0  0.469  6.421  78.9  4.9671  2.0  242.0   \n",
       "2  0.02729   0.0   7.07   0.0  0.469  7.185  61.1  4.9671  2.0  242.0   \n",
       "3  0.03237   0.0   2.18   0.0  0.458  6.998  45.8  6.0622  3.0  222.0   \n",
       "4  0.06905   0.0   2.18   0.0  0.458  7.147  54.2  6.0622  3.0  222.0   \n",
       "\n",
       "   PTRATIO       B  LSTAT  MEDV  \n",
       "0     15.3  396.90   4.98  24.0  \n",
       "1     17.8  396.90   9.14  21.6  \n",
       "2     17.8  392.83   4.03  34.7  \n",
       "3     18.7  394.63   2.94  33.4  \n",
       "4     18.7  396.90   5.33  36.2  "
      ]
     },
     "execution_count": 5,
     "metadata": {},
     "output_type": "execute_result"
    }
   ],
   "source": [
    "bdata = load_boston()\n",
    "\n",
    "boston =  pd.DataFrame(bdata.data, columns = bdata.feature_names)\n",
    "boston['MEDV'] = bdata.target\n",
    "boston.head()"
   ]
  },
  {
   "cell_type": "code",
   "execution_count": 7,
   "metadata": {},
   "outputs": [
    {
     "data": {
      "text/html": [
       "<div>\n",
       "<style>\n",
       "    .dataframe thead tr:only-child th {\n",
       "        text-align: right;\n",
       "    }\n",
       "\n",
       "    .dataframe thead th {\n",
       "        text-align: left;\n",
       "    }\n",
       "\n",
       "    .dataframe tbody tr th {\n",
       "        vertical-align: top;\n",
       "    }\n",
       "</style>\n",
       "<table border=\"1\" class=\"dataframe\">\n",
       "  <thead>\n",
       "    <tr style=\"text-align: right;\">\n",
       "      <th></th>\n",
       "      <th>CRIM</th>\n",
       "      <th>ZN</th>\n",
       "      <th>INDUS</th>\n",
       "      <th>CHAS</th>\n",
       "      <th>NOX</th>\n",
       "      <th>RM</th>\n",
       "      <th>AGE</th>\n",
       "      <th>DIS</th>\n",
       "      <th>RAD</th>\n",
       "      <th>TAX</th>\n",
       "      <th>...</th>\n",
       "      <th>A1</th>\n",
       "      <th>A2</th>\n",
       "      <th>A3</th>\n",
       "      <th>A4</th>\n",
       "      <th>A5</th>\n",
       "      <th>A6</th>\n",
       "      <th>A7</th>\n",
       "      <th>A8</th>\n",
       "      <th>A9</th>\n",
       "      <th>A10</th>\n",
       "    </tr>\n",
       "  </thead>\n",
       "  <tbody>\n",
       "    <tr>\n",
       "      <th>0</th>\n",
       "      <td>0.00632</td>\n",
       "      <td>18.0</td>\n",
       "      <td>2.31</td>\n",
       "      <td>0.0</td>\n",
       "      <td>0.538</td>\n",
       "      <td>6.575</td>\n",
       "      <td>65.2</td>\n",
       "      <td>4.0900</td>\n",
       "      <td>1.0</td>\n",
       "      <td>296.0</td>\n",
       "      <td>...</td>\n",
       "      <td>0.000040</td>\n",
       "      <td>1800.0</td>\n",
       "      <td>0.007804</td>\n",
       "      <td>0.733485</td>\n",
       "      <td>6.575</td>\n",
       "      <td>4.08368</td>\n",
       "      <td>1.0</td>\n",
       "      <td>2.96</td>\n",
       "      <td>25.008661</td>\n",
       "      <td>14.0900</td>\n",
       "    </tr>\n",
       "    <tr>\n",
       "      <th>1</th>\n",
       "      <td>0.02731</td>\n",
       "      <td>0.0</td>\n",
       "      <td>7.07</td>\n",
       "      <td>0.0</td>\n",
       "      <td>0.469</td>\n",
       "      <td>6.421</td>\n",
       "      <td>78.9</td>\n",
       "      <td>4.9671</td>\n",
       "      <td>2.0</td>\n",
       "      <td>242.0</td>\n",
       "      <td>...</td>\n",
       "      <td>0.000746</td>\n",
       "      <td>0.0</td>\n",
       "      <td>0.029215</td>\n",
       "      <td>0.684836</td>\n",
       "      <td>12.842</td>\n",
       "      <td>4.93979</td>\n",
       "      <td>8.0</td>\n",
       "      <td>2.42</td>\n",
       "      <td>16.549369</td>\n",
       "      <td>14.9671</td>\n",
       "    </tr>\n",
       "    <tr>\n",
       "      <th>2</th>\n",
       "      <td>0.02729</td>\n",
       "      <td>0.0</td>\n",
       "      <td>7.07</td>\n",
       "      <td>0.0</td>\n",
       "      <td>0.469</td>\n",
       "      <td>7.185</td>\n",
       "      <td>61.1</td>\n",
       "      <td>4.9671</td>\n",
       "      <td>2.0</td>\n",
       "      <td>242.0</td>\n",
       "      <td>...</td>\n",
       "      <td>0.000745</td>\n",
       "      <td>0.0</td>\n",
       "      <td>0.029215</td>\n",
       "      <td>0.684836</td>\n",
       "      <td>14.370</td>\n",
       "      <td>4.93981</td>\n",
       "      <td>8.0</td>\n",
       "      <td>2.42</td>\n",
       "      <td>16.469559</td>\n",
       "      <td>14.9671</td>\n",
       "    </tr>\n",
       "    <tr>\n",
       "      <th>3</th>\n",
       "      <td>0.03237</td>\n",
       "      <td>0.0</td>\n",
       "      <td>2.18</td>\n",
       "      <td>0.0</td>\n",
       "      <td>0.458</td>\n",
       "      <td>6.998</td>\n",
       "      <td>45.8</td>\n",
       "      <td>6.0622</td>\n",
       "      <td>3.0</td>\n",
       "      <td>222.0</td>\n",
       "      <td>...</td>\n",
       "      <td>0.001048</td>\n",
       "      <td>0.0</td>\n",
       "      <td>0.009820</td>\n",
       "      <td>0.676757</td>\n",
       "      <td>20.994</td>\n",
       "      <td>6.02983</td>\n",
       "      <td>27.0</td>\n",
       "      <td>2.22</td>\n",
       "      <td>15.454504</td>\n",
       "      <td>16.0622</td>\n",
       "    </tr>\n",
       "    <tr>\n",
       "      <th>4</th>\n",
       "      <td>0.06905</td>\n",
       "      <td>0.0</td>\n",
       "      <td>2.18</td>\n",
       "      <td>0.0</td>\n",
       "      <td>0.458</td>\n",
       "      <td>7.147</td>\n",
       "      <td>54.2</td>\n",
       "      <td>6.0622</td>\n",
       "      <td>3.0</td>\n",
       "      <td>222.0</td>\n",
       "      <td>...</td>\n",
       "      <td>0.004768</td>\n",
       "      <td>0.0</td>\n",
       "      <td>0.009820</td>\n",
       "      <td>0.676757</td>\n",
       "      <td>21.441</td>\n",
       "      <td>5.99315</td>\n",
       "      <td>27.0</td>\n",
       "      <td>2.22</td>\n",
       "      <td>15.495156</td>\n",
       "      <td>16.0622</td>\n",
       "    </tr>\n",
       "  </tbody>\n",
       "</table>\n",
       "<p>5 rows × 24 columns</p>\n",
       "</div>"
      ],
      "text/plain": [
       "      CRIM    ZN  INDUS  CHAS    NOX     RM   AGE     DIS  RAD    TAX  \\\n",
       "0  0.00632  18.0   2.31   0.0  0.538  6.575  65.2  4.0900  1.0  296.0   \n",
       "1  0.02731   0.0   7.07   0.0  0.469  6.421  78.9  4.9671  2.0  242.0   \n",
       "2  0.02729   0.0   7.07   0.0  0.469  7.185  61.1  4.9671  2.0  242.0   \n",
       "3  0.03237   0.0   2.18   0.0  0.458  6.998  45.8  6.0622  3.0  222.0   \n",
       "4  0.06905   0.0   2.18   0.0  0.458  7.147  54.2  6.0622  3.0  222.0   \n",
       "\n",
       "    ...           A1      A2        A3        A4      A5       A6    A7    A8  \\\n",
       "0   ...     0.000040  1800.0  0.007804  0.733485   6.575  4.08368   1.0  2.96   \n",
       "1   ...     0.000746     0.0  0.029215  0.684836  12.842  4.93979   8.0  2.42   \n",
       "2   ...     0.000745     0.0  0.029215  0.684836  14.370  4.93981   8.0  2.42   \n",
       "3   ...     0.001048     0.0  0.009820  0.676757  20.994  6.02983  27.0  2.22   \n",
       "4   ...     0.004768     0.0  0.009820  0.676757  21.441  5.99315  27.0  2.22   \n",
       "\n",
       "          A9      A10  \n",
       "0  25.008661  14.0900  \n",
       "1  16.549369  14.9671  \n",
       "2  16.469559  14.9671  \n",
       "3  15.454504  16.0622  \n",
       "4  15.495156  16.0622  \n",
       "\n",
       "[5 rows x 24 columns]"
      ]
     },
     "execution_count": 7,
     "metadata": {},
     "output_type": "execute_result"
    }
   ],
   "source": [
    "#engineered features\n",
    "boston['A1'] = boston['CRIM'] ** 2\n",
    "boston['A2'] = boston['ZN'] * 100\n",
    "boston['A3'] = boston['INDUS'] / boston['TAX']\n",
    "boston['A4'] = boston['NOX'] ** 0.5\n",
    "boston['A5'] = boston['RM'] * boston['RAD']\n",
    "boston['A6'] = boston['DIS'] - boston['CRIM']\n",
    "boston['A7'] = boston['RAD'] ** 3\n",
    "boston['A8'] = boston['TAX'] / 100\n",
    "boston['A9'] = boston['B'] ** boston['NOX']\n",
    "boston['A10'] = boston['DIS'] + 10\n",
    "boston.head()"
   ]
  },
  {
   "cell_type": "code",
   "execution_count": 8,
   "metadata": {},
   "outputs": [
    {
     "data": {
      "text/html": [
       "<div>\n",
       "<style>\n",
       "    .dataframe thead tr:only-child th {\n",
       "        text-align: right;\n",
       "    }\n",
       "\n",
       "    .dataframe thead th {\n",
       "        text-align: left;\n",
       "    }\n",
       "\n",
       "    .dataframe tbody tr th {\n",
       "        vertical-align: top;\n",
       "    }\n",
       "</style>\n",
       "<table border=\"1\" class=\"dataframe\">\n",
       "  <thead>\n",
       "    <tr style=\"text-align: right;\">\n",
       "      <th></th>\n",
       "      <th>CRIM</th>\n",
       "      <th>ZN</th>\n",
       "      <th>INDUS</th>\n",
       "      <th>CHAS</th>\n",
       "      <th>NOX</th>\n",
       "      <th>RM</th>\n",
       "      <th>AGE</th>\n",
       "      <th>DIS</th>\n",
       "      <th>RAD</th>\n",
       "      <th>TAX</th>\n",
       "      <th>...</th>\n",
       "      <th>B1</th>\n",
       "      <th>B2</th>\n",
       "      <th>B3</th>\n",
       "      <th>B4</th>\n",
       "      <th>B5</th>\n",
       "      <th>B6</th>\n",
       "      <th>B7</th>\n",
       "      <th>B8</th>\n",
       "      <th>B9</th>\n",
       "      <th>B10</th>\n",
       "    </tr>\n",
       "  </thead>\n",
       "  <tbody>\n",
       "    <tr>\n",
       "      <th>0</th>\n",
       "      <td>0.00632</td>\n",
       "      <td>18.0</td>\n",
       "      <td>2.31</td>\n",
       "      <td>0.0</td>\n",
       "      <td>0.538</td>\n",
       "      <td>6.575</td>\n",
       "      <td>65.2</td>\n",
       "      <td>4.0900</td>\n",
       "      <td>1.0</td>\n",
       "      <td>296.0</td>\n",
       "      <td>...</td>\n",
       "      <td>3.846124</td>\n",
       "      <td>763.84</td>\n",
       "      <td>1.0</td>\n",
       "      <td>0.388250</td>\n",
       "      <td>84.932515</td>\n",
       "      <td>336</td>\n",
       "      <td>10.139730</td>\n",
       "      <td>0.92</td>\n",
       "      <td>25133</td>\n",
       "      <td>0.18</td>\n",
       "    </tr>\n",
       "    <tr>\n",
       "      <th>1</th>\n",
       "      <td>0.02731</td>\n",
       "      <td>0.0</td>\n",
       "      <td>7.07</td>\n",
       "      <td>0.0</td>\n",
       "      <td>0.469</td>\n",
       "      <td>6.421</td>\n",
       "      <td>78.9</td>\n",
       "      <td>4.9671</td>\n",
       "      <td>2.0</td>\n",
       "      <td>242.0</td>\n",
       "      <td>...</td>\n",
       "      <td>7.342871</td>\n",
       "      <td>493.49</td>\n",
       "      <td>0.0</td>\n",
       "      <td>0.360466</td>\n",
       "      <td>99.806050</td>\n",
       "      <td>116</td>\n",
       "      <td>14.609051</td>\n",
       "      <td>0.61</td>\n",
       "      <td>75914</td>\n",
       "      <td>0.69</td>\n",
       "    </tr>\n",
       "    <tr>\n",
       "      <th>2</th>\n",
       "      <td>0.02729</td>\n",
       "      <td>0.0</td>\n",
       "      <td>7.07</td>\n",
       "      <td>0.0</td>\n",
       "      <td>0.469</td>\n",
       "      <td>7.185</td>\n",
       "      <td>61.1</td>\n",
       "      <td>4.9671</td>\n",
       "      <td>2.0</td>\n",
       "      <td>242.0</td>\n",
       "      <td>...</td>\n",
       "      <td>5.546224</td>\n",
       "      <td>425.28</td>\n",
       "      <td>1.0</td>\n",
       "      <td>0.316570</td>\n",
       "      <td>2.348952</td>\n",
       "      <td>198</td>\n",
       "      <td>12.756100</td>\n",
       "      <td>0.72</td>\n",
       "      <td>77539</td>\n",
       "      <td>1.92</td>\n",
       "    </tr>\n",
       "    <tr>\n",
       "      <th>3</th>\n",
       "      <td>0.03237</td>\n",
       "      <td>0.0</td>\n",
       "      <td>2.18</td>\n",
       "      <td>0.0</td>\n",
       "      <td>0.458</td>\n",
       "      <td>6.998</td>\n",
       "      <td>45.8</td>\n",
       "      <td>6.0622</td>\n",
       "      <td>3.0</td>\n",
       "      <td>222.0</td>\n",
       "      <td>...</td>\n",
       "      <td>9.356592</td>\n",
       "      <td>1085.91</td>\n",
       "      <td>0.0</td>\n",
       "      <td>0.400716</td>\n",
       "      <td>99.204920</td>\n",
       "      <td>399</td>\n",
       "      <td>13.850458</td>\n",
       "      <td>0.59</td>\n",
       "      <td>99553</td>\n",
       "      <td>0.85</td>\n",
       "    </tr>\n",
       "    <tr>\n",
       "      <th>4</th>\n",
       "      <td>0.06905</td>\n",
       "      <td>0.0</td>\n",
       "      <td>2.18</td>\n",
       "      <td>0.0</td>\n",
       "      <td>0.458</td>\n",
       "      <td>7.147</td>\n",
       "      <td>54.2</td>\n",
       "      <td>6.0622</td>\n",
       "      <td>3.0</td>\n",
       "      <td>222.0</td>\n",
       "      <td>...</td>\n",
       "      <td>6.670582</td>\n",
       "      <td>102.22</td>\n",
       "      <td>1.0</td>\n",
       "      <td>0.383938</td>\n",
       "      <td>50.254677</td>\n",
       "      <td>300</td>\n",
       "      <td>14.387629</td>\n",
       "      <td>0.08</td>\n",
       "      <td>47538</td>\n",
       "      <td>1.91</td>\n",
       "    </tr>\n",
       "  </tbody>\n",
       "</table>\n",
       "<p>5 rows × 34 columns</p>\n",
       "</div>"
      ],
      "text/plain": [
       "      CRIM    ZN  INDUS  CHAS    NOX     RM   AGE     DIS  RAD    TAX  ...   \\\n",
       "0  0.00632  18.0   2.31   0.0  0.538  6.575  65.2  4.0900  1.0  296.0  ...    \n",
       "1  0.02731   0.0   7.07   0.0  0.469  6.421  78.9  4.9671  2.0  242.0  ...    \n",
       "2  0.02729   0.0   7.07   0.0  0.469  7.185  61.1  4.9671  2.0  242.0  ...    \n",
       "3  0.03237   0.0   2.18   0.0  0.458  6.998  45.8  6.0622  3.0  222.0  ...    \n",
       "4  0.06905   0.0   2.18   0.0  0.458  7.147  54.2  6.0622  3.0  222.0  ...    \n",
       "\n",
       "         B1       B2   B3        B4         B5   B6         B7    B8     B9  \\\n",
       "0  3.846124   763.84  1.0  0.388250  84.932515  336  10.139730  0.92  25133   \n",
       "1  7.342871   493.49  0.0  0.360466  99.806050  116  14.609051  0.61  75914   \n",
       "2  5.546224   425.28  1.0  0.316570   2.348952  198  12.756100  0.72  77539   \n",
       "3  9.356592  1085.91  0.0  0.400716  99.204920  399  13.850458  0.59  99553   \n",
       "4  6.670582   102.22  1.0  0.383938  50.254677  300  14.387629  0.08  47538   \n",
       "\n",
       "    B10  \n",
       "0  0.18  \n",
       "1  0.69  \n",
       "2  1.92  \n",
       "3  0.85  \n",
       "4  1.91  \n",
       "\n",
       "[5 rows x 34 columns]"
      ]
     },
     "execution_count": 8,
     "metadata": {},
     "output_type": "execute_result"
    }
   ],
   "source": [
    "#bogus features\n",
    "rows = len(boston['CRIM'])\n",
    "boston['B1'] = np.random.uniform(low=0.5, high=13.3, size=(rows,))\n",
    "boston['B2'] = np.round(np.random.uniform(low=25, high=1837, size=(rows,)), 2)\n",
    "boston['B3'] = np.round(np.random.uniform(low=0.0, high=1.0, size=(rows,)))\n",
    "boston['B4'] = np.random.random_sample((rows,))\n",
    "boston['B5'] = np.random.ranf((rows,)) * 100\n",
    "boston['B6'] = np.random.randint(5, 400 + 1, size=(rows,))\n",
    "boston['B7'] = np.random.uniform(low=10, high=15, size=(rows,))\n",
    "boston['B8'] = np.round(np.random.uniform(low=0, high=1, size=(rows,)), 2)\n",
    "boston['B9'] = np.random.randint(10000, 100000 + 1, size=(rows,))\n",
    "boston['B10'] = np.round(np.random.uniform(low=0, high=2, size=(rows,)), 2)\n",
    "\n",
    "boston.head()"
   ]
  },
  {
   "cell_type": "code",
   "execution_count": 15,
   "metadata": {},
   "outputs": [
    {
     "data": {
      "text/html": [
       "<div>\n",
       "<style>\n",
       "    .dataframe thead tr:only-child th {\n",
       "        text-align: right;\n",
       "    }\n",
       "\n",
       "    .dataframe thead th {\n",
       "        text-align: left;\n",
       "    }\n",
       "\n",
       "    .dataframe tbody tr th {\n",
       "        vertical-align: top;\n",
       "    }\n",
       "</style>\n",
       "<table border=\"1\" class=\"dataframe\">\n",
       "  <thead>\n",
       "    <tr style=\"text-align: right;\">\n",
       "      <th></th>\n",
       "      <th>count</th>\n",
       "      <th>mean</th>\n",
       "      <th>std</th>\n",
       "      <th>min</th>\n",
       "      <th>25%</th>\n",
       "      <th>50%</th>\n",
       "      <th>75%</th>\n",
       "      <th>max</th>\n",
       "      <th>corr</th>\n",
       "    </tr>\n",
       "  </thead>\n",
       "  <tbody>\n",
       "    <tr>\n",
       "      <th>CRIM</th>\n",
       "      <td>506.0</td>\n",
       "      <td>3.593761</td>\n",
       "      <td>8.596783</td>\n",
       "      <td>0.00632</td>\n",
       "      <td>0.082045</td>\n",
       "      <td>0.25651</td>\n",
       "      <td>3.647423</td>\n",
       "      <td>88.9762</td>\n",
       "      <td>-0.385832</td>\n",
       "    </tr>\n",
       "    <tr>\n",
       "      <th>ZN</th>\n",
       "      <td>506.0</td>\n",
       "      <td>11.363636</td>\n",
       "      <td>23.322453</td>\n",
       "      <td>0.00000</td>\n",
       "      <td>0.000000</td>\n",
       "      <td>0.00000</td>\n",
       "      <td>12.500000</td>\n",
       "      <td>100.0000</td>\n",
       "      <td>0.360445</td>\n",
       "    </tr>\n",
       "    <tr>\n",
       "      <th>INDUS</th>\n",
       "      <td>506.0</td>\n",
       "      <td>11.136779</td>\n",
       "      <td>6.860353</td>\n",
       "      <td>0.46000</td>\n",
       "      <td>5.190000</td>\n",
       "      <td>9.69000</td>\n",
       "      <td>18.100000</td>\n",
       "      <td>27.7400</td>\n",
       "      <td>-0.483725</td>\n",
       "    </tr>\n",
       "    <tr>\n",
       "      <th>CHAS</th>\n",
       "      <td>506.0</td>\n",
       "      <td>0.069170</td>\n",
       "      <td>0.253994</td>\n",
       "      <td>0.00000</td>\n",
       "      <td>0.000000</td>\n",
       "      <td>0.00000</td>\n",
       "      <td>0.000000</td>\n",
       "      <td>1.0000</td>\n",
       "      <td>0.175260</td>\n",
       "    </tr>\n",
       "    <tr>\n",
       "      <th>NOX</th>\n",
       "      <td>506.0</td>\n",
       "      <td>0.554695</td>\n",
       "      <td>0.115878</td>\n",
       "      <td>0.38500</td>\n",
       "      <td>0.449000</td>\n",
       "      <td>0.53800</td>\n",
       "      <td>0.624000</td>\n",
       "      <td>0.8710</td>\n",
       "      <td>-0.427321</td>\n",
       "    </tr>\n",
       "  </tbody>\n",
       "</table>\n",
       "</div>"
      ],
      "text/plain": [
       "       count       mean        std      min       25%      50%        75%  \\\n",
       "CRIM   506.0   3.593761   8.596783  0.00632  0.082045  0.25651   3.647423   \n",
       "ZN     506.0  11.363636  23.322453  0.00000  0.000000  0.00000  12.500000   \n",
       "INDUS  506.0  11.136779   6.860353  0.46000  5.190000  9.69000  18.100000   \n",
       "CHAS   506.0   0.069170   0.253994  0.00000  0.000000  0.00000   0.000000   \n",
       "NOX    506.0   0.554695   0.115878  0.38500  0.449000  0.53800   0.624000   \n",
       "\n",
       "            max      corr  \n",
       "CRIM    88.9762 -0.385832  \n",
       "ZN     100.0000  0.360445  \n",
       "INDUS   27.7400 -0.483725  \n",
       "CHAS     1.0000  0.175260  \n",
       "NOX      0.8710 -0.427321  "
      ]
     },
     "execution_count": 15,
     "metadata": {},
     "output_type": "execute_result"
    }
   ],
   "source": [
    "#summary table\n",
    "summary = boston.describe().T\n",
    "summary['corr'] = [0.0] * len(summary['count'])\n",
    "\n",
    "for name in boston.columns:\n",
    "    summary['corr'][name] = pd.Series.corr(boston[name], boston['MEDV'])\n",
    "\n",
    "summary.head()"
   ]
  },
  {
   "cell_type": "code",
   "execution_count": 25,
   "metadata": {},
   "outputs": [
    {
     "data": {
      "text/plain": [
       "<matplotlib.text.Text at 0x1c19440320>"
      ]
     },
     "execution_count": 25,
     "metadata": {},
     "output_type": "execute_result"
    },
    {
     "data": {
      "image/png": "[encoded data removed]",
      "text/plain": [
       "<matplotlib.figure.Figure at 0x1c19517198>"
      ]
     },
     "metadata": {},
     "output_type": "display_data"
    }
   ],
   "source": [
    "plt.plot(boston[['CRIM']], boston[['MEDV']], 'o', alpha=0.5)\n",
    "plt.ylabel('MEDV')\n",
    "plt.xlabel('CRIM')"
   ]
  },
  {
   "cell_type": "code",
   "execution_count": 26,
   "metadata": {},
   "outputs": [
    {
     "data": {
      "text/plain": [
       "<matplotlib.text.Text at 0x1c19327400>"
      ]
     },
     "execution_count": 26,
     "metadata": {},
     "output_type": "execute_result"
    },
    {
     "data": {
      "image/png": "[encoded data removed]",
      "text/plain": [
       "<matplotlib.figure.Figure at 0x1c19536f60>"
      ]
     },
     "metadata": {},
     "output_type": "display_data"
    }
   ],
   "source": [
    "plt.plot(boston[['RM']], boston[['MEDV']], 'o', alpha=0.5)\n",
    "plt.ylabel('MEDV')\n",
    "plt.xlabel('RM')"
   ]
  },
  {
   "cell_type": "code",
   "execution_count": 27,
   "metadata": {},
   "outputs": [
    {
     "data": {
      "text/plain": [
       "<matplotlib.text.Text at 0x1c1942ea58>"
      ]
     },
     "execution_count": 27,
     "metadata": {},
     "output_type": "execute_result"
    },
    {
     "data": {
      "image/png": "[encoded data removed]",
      "text/plain": [
       "<matplotlib.figure.Figure at 0x1c196a9160>"
      ]
     },
     "metadata": {},
     "output_type": "display_data"
    }
   ],
   "source": [
    "plt.plot(boston[['DIS']], boston[['MEDV']], 'o', alpha=0.5)\n",
    "plt.ylabel('MEDV')\n",
    "plt.xlabel('DIS')"
   ]
  },
  {
   "cell_type": "code",
   "execution_count": 28,
   "metadata": {},
   "outputs": [
    {
     "data": {
      "text/plain": [
       "<matplotlib.text.Text at 0x1c196086a0>"
      ]
     },
     "execution_count": 28,
     "metadata": {},
     "output_type": "execute_result"
    },
    {
     "data": {
      "image/png": "[encoded data removed]",
      "text/plain": [
       "<matplotlib.figure.Figure at 0x1c197f3470>"
      ]
     },
     "metadata": {},
     "output_type": "display_data"
    }
   ],
   "source": [
    "plt.plot(boston[['A5']], boston[['MEDV']], 'o', alpha=0.5)\n",
    "plt.ylabel('MEDV')\n",
    "plt.xlabel('A5')"
   ]
  },
  {
   "cell_type": "code",
   "execution_count": 29,
   "metadata": {},
   "outputs": [
    {
     "data": {
      "text/plain": [
       "<matplotlib.text.Text at 0x1c198d0cf8>"
      ]
     },
     "execution_count": 29,
     "metadata": {},
     "output_type": "execute_result"
    },
    {
     "data": {
      "image/png": "[encoded data removed]",
      "text/plain": [
       "<matplotlib.figure.Figure at 0x1c1980ca58>"
      ]
     },
     "metadata": {},
     "output_type": "display_data"
    }
   ],
   "source": [
    "plt.plot(boston[['B1']], boston[['MEDV']], 'o', alpha=0.5)\n",
    "plt.ylabel('MEDV')\n",
    "plt.xlabel('B1')"
   ]
  },
  {
   "cell_type": "markdown",
   "metadata": {},
   "source": [
    "<h1> 2 Simple Models"
   ]
  },
  {
   "cell_type": "markdown",
   "metadata": {},
   "source": [
    "<h3> Loss Function"
   ]
  },
  {
   "cell_type": "code",
   "execution_count": 30,
   "metadata": {
    "collapsed": true
   },
   "outputs": [],
   "source": [
    "#loss function\n",
    "def MSE(lm, x, y):\n",
    "    return np.square(y - lm.predict(x)).mean()"
   ]
  },
  {
   "cell_type": "markdown",
   "metadata": {},
   "source": [
    "<h3> Few Simple Regressions"
   ]
  },
  {
   "cell_type": "code",
   "execution_count": 31,
   "metadata": {},
   "outputs": [
    {
     "data": {
      "text/plain": [
       "LinearRegression(copy_X=True, fit_intercept=True, n_jobs=1, normalize=False)"
      ]
     },
     "execution_count": 31,
     "metadata": {},
     "output_type": "execute_result"
    }
   ],
   "source": [
    "x = boston[['CRIM']]\n",
    "y = boston['MEDV']\n",
    "\n",
    "lm = LinearRegression()\n",
    "lm.fit(x, y)"
   ]
  },
  {
   "cell_type": "code",
   "execution_count": 33,
   "metadata": {},
   "outputs": [
    {
     "name": "stdout",
     "output_type": "stream",
     "text": [
      "[  47.5065087    26.96062463   45.79534319  167.8967778    89.59115588\n",
      "  147.28144563   21.26305107  135.21275971   59.670526     35.70121519]\n",
      "CRIM MSE score:  77.6879407813\n"
     ]
    }
   ],
   "source": [
    "# CRIM 10-fold MSE Score\n",
    "scores = cross_val_score(lm, x, y, cv=10, scoring=MSE)\n",
    "print(scores)\n",
    "\n",
    "print('MSE score: ', scores.mean())"
   ]
  },
  {
   "cell_type": "code",
   "execution_count": 35,
   "metadata": {},
   "outputs": [
    {
     "name": "stdout",
     "output_type": "stream",
     "text": [
      "[  52.5966915    33.49043199   21.0157655   141.13094906   81.66114742\n",
      "  108.90959896   40.28860991  128.33526614   27.8732405    20.46499797]\n",
      "MSE score:  65.5766698945\n"
     ]
    }
   ],
   "source": [
    "# 10 variable MSE Score\n",
    "x = boston[['CRIM', 'ZN', 'INDUS', 'NOX', 'A1', 'A2', 'A3', 'B1', 'B2', 'B3']]\n",
    "y = boston['MEDV']\n",
    "\n",
    "lm = LinearRegression()\n",
    "lm.fit(x, y)\n",
    "\n",
    "scores = cross_val_score(lm, x, y, cv=10, scoring=MSE)\n",
    "print(scores)\n",
    "\n",
    "print('MSE score: ', scores.mean())"
   ]
  },
  {
   "cell_type": "code",
   "execution_count": 38,
   "metadata": {},
   "outputs": [
    {
     "name": "stdout",
     "output_type": "stream",
     "text": [
      "[  11.13001528   10.99606085   59.31089686   24.36437722   22.55320331\n",
      "   12.33549375    7.41351599  120.16596364   18.51162405   12.61971435]\n",
      "MSE score:  29.9400865303\n"
     ]
    }
   ],
   "source": [
    "# all variables MSE score\n",
    "x = boston[boston.columns]\n",
    "x = x.drop(['MEDV'], axis=1)\n",
    "y = boston['MEDV']\n",
    "\n",
    "\n",
    "lm = LinearRegression()\n",
    "lm.fit(x, y)\n",
    "\n",
    "scores = cross_val_score(lm, x, y, cv=10, scoring=MSE)\n",
    "print(scores)\n",
    "\n",
    "print('MSE score: ', scores.mean())"
   ]
  },
  {
   "cell_type": "markdown",
   "metadata": {},
   "source": [
    "Using all features resulted in a MSE score of 29.94. This performs best of all the models, because the closer MSE is to zero, the more accurate the estimator predicts observations."
   ]
  },
  {
   "cell_type": "markdown",
   "metadata": {},
   "source": [
    "<h1> 3 Find the Best Model"
   ]
  },
  {
   "cell_type": "markdown",
   "metadata": {},
   "source": [
    "<h3> Can we evaluate all models"
   ]
  },
  {
   "cell_type": "code",
   "execution_count": 40,
   "metadata": {},
   "outputs": [
    {
     "name": "stdout",
     "output_type": "stream",
     "text": [
      "# of possible models:  8683317618811886495518194401280000000\n"
     ]
    }
   ],
   "source": [
    "import math\n",
    "print('# of possible models: ', math.factorial(33))"
   ]
  },
  {
   "cell_type": "code",
   "execution_count": 45,
   "metadata": {},
   "outputs": [
    {
     "name": "stdout",
     "output_type": "stream",
     "text": [
      "Total time taken:  6.082586765289307\n"
     ]
    }
   ],
   "source": [
    "import time\n",
    "allFeatures = boston[boston.columns].drop(['MEDV'], axis=1)\n",
    "\n",
    "i = 0\n",
    "iterations = 250\n",
    "\n",
    "startTime = time.time()\n",
    "\n",
    "while i < iterations :\n",
    "    rangeFeatures = np.arange(0, 33)\n",
    "    shuffledOrder = np.random.choice(rangeFeatures, size=33, replace=False)\n",
    "    numFeatures = np.random.randint(low=1, high=34)\n",
    "    pickedFeatures = shuffledOrder[0:numFeatures]\n",
    "\n",
    "    x = allFeatures.iloc[:, pickedFeatures]\n",
    "    y = boston['MEDV']\n",
    "\n",
    "    lm = LinearRegression()\n",
    "    lm.fit(x, y)\n",
    "\n",
    "    scores = cross_val_score(lm, x, y, cv=10, scoring=MSE)\n",
    "    scoresMean = scores.mean()\n",
    "    \n",
    "    i = i + 1\n",
    "endTime = time.time()\n",
    "print(\"Total time taken: \", endTime - startTime)"
   ]
  },
  {
   "cell_type": "code",
   "execution_count": 46,
   "metadata": {},
   "outputs": [
    {
     "name": "stdout",
     "output_type": "stream",
     "text": [
      "Years it will take  6.607470604042019e+27\n"
     ]
    }
   ],
   "source": [
    "print('Years it will take ', ((6/250) * math.factorial(33)) / 31540000)"
   ]
  },
  {
   "cell_type": "markdown",
   "metadata": {},
   "source": [
    "It took around 6 seconds to go through 250 iterations and to complete the whole process would take 6.607470604042019e+27 years for my computational power"
   ]
  },
  {
   "cell_type": "markdown",
   "metadata": {},
   "source": [
    "<h3> Forward Selection"
   ]
  },
  {
   "cell_type": "code",
   "execution_count": 47,
   "metadata": {},
   "outputs": [
    {
     "name": "stdout",
     "output_type": "stream",
     "text": [
      "Lowest Loss:  41.8289580722\n",
      "Feature:  LSTAT\n"
     ]
    }
   ],
   "source": [
    "allFeatures = boston[boston.columns].drop(['MEDV'], axis=1)\n",
    "featureNames = allFeatures.columns\n",
    "\n",
    "i = 0\n",
    "maxFeatures = 33\n",
    "bestMean = 0\n",
    "bestFeature = ''\n",
    "\n",
    "while i < maxFeatures :\n",
    "    x = allFeatures.iloc[:, i].values.reshape(-1, 1)\n",
    "    y = boston['MEDV']\n",
    "    \n",
    "    lm = LinearRegression()\n",
    "    lm.fit(x, y)\n",
    "    \n",
    "    scores = cross_val_score(lm, x, y, cv=10, scoring=MSE)\n",
    "    scoresMean = scores.mean()\n",
    "    \n",
    "    if (i == 0):\n",
    "        bestMean = scoresMean\n",
    "        bestFeature = featureNames[i]\n",
    "    else:\n",
    "        if (scoresMean < bestMean):\n",
    "            bestMean = scoresMean\n",
    "            bestFeature = featureNames[i]\n",
    "\n",
    "    i = i + 1\n",
    "\n",
    "print('Lowest Loss: ', bestMean)\n",
    "print('Feature: ', bestFeature)"
   ]
  },
  {
   "cell_type": "code",
   "execution_count": 48,
   "metadata": {},
   "outputs": [
    {
     "name": "stdout",
     "output_type": "stream",
     "text": [
      "Lowest loss:  29.7458365227\n",
      "Number of features:  25\n"
     ]
    }
   ],
   "source": [
    "allFeatures = boston[boston.columns].drop(['MEDV'], axis=1)\n",
    "featureNames = allFeatures.columns\n",
    "\n",
    "i = 1\n",
    "maxFeatures = 33\n",
    "bestMean = 0\n",
    "numFeatures = 0\n",
    "\n",
    "while i < maxFeatures :    \n",
    "    x = allFeatures.iloc[:, 0:i]\n",
    "    y = boston['MEDV']\n",
    "\n",
    "    lm = LinearRegression()\n",
    "    lm.fit(x, y)\n",
    "\n",
    "    scores = cross_val_score(lm, x, y, cv=10, scoring=MSE)\n",
    "    scoresMean = scores.mean()\n",
    "    \n",
    "    if (i == 1):\n",
    "        bestMean = scoresMean\n",
    "        numFeatures = i + 1\n",
    "    else:\n",
    "        if (scoresMean < bestMean):\n",
    "            bestMean = scoresMean\n",
    "            numFeatures = i + 1\n",
    "    \n",
    "    i = i + 1\n",
    "\n",
    "print('Lowest loss: ', bestMean)\n",
    "print('Number of features: ', numFeatures)"
   ]
  },
  {
   "cell_type": "markdown",
   "metadata": {},
   "source": [
    "<h1> 4 Principle Components"
   ]
  },
  {
   "cell_type": "markdown",
   "metadata": {},
   "source": [
    "<h3> Raw Features"
   ]
  },
  {
   "cell_type": "code",
   "execution_count": 49,
   "metadata": {},
   "outputs": [
    {
     "data": {
      "text/html": [
       "<div>\n",
       "<style>\n",
       "    .dataframe thead tr:only-child th {\n",
       "        text-align: right;\n",
       "    }\n",
       "\n",
       "    .dataframe thead th {\n",
       "        text-align: left;\n",
       "    }\n",
       "\n",
       "    .dataframe tbody tr th {\n",
       "        vertical-align: top;\n",
       "    }\n",
       "</style>\n",
       "<table border=\"1\" class=\"dataframe\">\n",
       "  <thead>\n",
       "    <tr style=\"text-align: right;\">\n",
       "      <th></th>\n",
       "      <th>explained_variance</th>\n",
       "      <th>variance_ratio</th>\n",
       "      <th>cum_variance_ratio</th>\n",
       "      <th>singular_values</th>\n",
       "    </tr>\n",
       "  </thead>\n",
       "  <tbody>\n",
       "    <tr>\n",
       "      <th>CRIM</th>\n",
       "      <td>7.022448e+08</td>\n",
       "      <td>0.943211</td>\n",
       "      <td>0.943211</td>\n",
       "      <td>595511.217503</td>\n",
       "    </tr>\n",
       "    <tr>\n",
       "      <th>ZN</th>\n",
       "      <td>3.685518e+07</td>\n",
       "      <td>0.049502</td>\n",
       "      <td>0.992712</td>\n",
       "      <td>136425.314150</td>\n",
       "    </tr>\n",
       "    <tr>\n",
       "      <th>INDUS</th>\n",
       "      <td>4.893220e+06</td>\n",
       "      <td>0.006572</td>\n",
       "      <td>0.999284</td>\n",
       "      <td>49709.920860</td>\n",
       "    </tr>\n",
       "    <tr>\n",
       "      <th>CHAS</th>\n",
       "      <td>2.659231e+05</td>\n",
       "      <td>0.000357</td>\n",
       "      <td>0.999641</td>\n",
       "      <td>11588.407080</td>\n",
       "    </tr>\n",
       "    <tr>\n",
       "      <th>NOX</th>\n",
       "      <td>2.403140e+05</td>\n",
       "      <td>0.000323</td>\n",
       "      <td>0.999964</td>\n",
       "      <td>11016.286244</td>\n",
       "    </tr>\n",
       "  </tbody>\n",
       "</table>\n",
       "</div>"
      ],
      "text/plain": [
       "       explained_variance  variance_ratio  cum_variance_ratio  singular_values\n",
       "CRIM         7.022448e+08        0.943211            0.943211    595511.217503\n",
       "ZN           3.685518e+07        0.049502            0.992712    136425.314150\n",
       "INDUS        4.893220e+06        0.006572            0.999284     49709.920860\n",
       "CHAS         2.659231e+05        0.000357            0.999641     11588.407080\n",
       "NOX          2.403140e+05        0.000323            0.999964     11016.286244"
      ]
     },
     "execution_count": 49,
     "metadata": {},
     "output_type": "execute_result"
    }
   ],
   "source": [
    "x = boston[boston.columns].drop(['MEDV'], axis=1)\n",
    "featureNames = x.columns\n",
    "\n",
    "m = PCA().fit(x)\n",
    "\n",
    "pcaSummary = pd.DataFrame(m.explained_variance_, columns = ['explained_variance'], index=featureNames)\n",
    "pcaSummary['variance_ratio'] = m.explained_variance_ratio_\n",
    "pcaSummary['cum_variance_ratio'] = np.cumsum(m.explained_variance_ratio_)\n",
    "pcaSummary['singular_values'] = m.singular_values_\n",
    "\n",
    "pcaSummary.head()"
   ]
  },
  {
   "cell_type": "code",
   "execution_count": 51,
   "metadata": {},
   "outputs": [
    {
     "data": {
      "text/html": [
       "<div>\n",
       "<style>\n",
       "    .dataframe thead tr:only-child th {\n",
       "        text-align: right;\n",
       "    }\n",
       "\n",
       "    .dataframe thead th {\n",
       "        text-align: left;\n",
       "    }\n",
       "\n",
       "    .dataframe tbody tr th {\n",
       "        vertical-align: top;\n",
       "    }\n",
       "</style>\n",
       "<table border=\"1\" class=\"dataframe\">\n",
       "  <thead>\n",
       "    <tr style=\"text-align: right;\">\n",
       "      <th></th>\n",
       "      <th>explained_variance</th>\n",
       "      <th>variance_ratio</th>\n",
       "      <th>cum_variance_ratio</th>\n",
       "      <th>singular_values</th>\n",
       "    </tr>\n",
       "  </thead>\n",
       "  <tbody>\n",
       "    <tr>\n",
       "      <th>CRIM</th>\n",
       "      <td>30889.518211</td>\n",
       "      <td>0.805815</td>\n",
       "      <td>0.805815</td>\n",
       "      <td>3949.583104</td>\n",
       "    </tr>\n",
       "    <tr>\n",
       "      <th>ZN</th>\n",
       "      <td>6250.274010</td>\n",
       "      <td>0.163051</td>\n",
       "      <td>0.968865</td>\n",
       "      <td>1776.622744</td>\n",
       "    </tr>\n",
       "    <tr>\n",
       "      <th>INDUS</th>\n",
       "      <td>818.365244</td>\n",
       "      <td>0.021349</td>\n",
       "      <td>0.990214</td>\n",
       "      <td>642.864253</td>\n",
       "    </tr>\n",
       "    <tr>\n",
       "      <th>CHAS</th>\n",
       "      <td>266.683023</td>\n",
       "      <td>0.006957</td>\n",
       "      <td>0.997171</td>\n",
       "      <td>366.980826</td>\n",
       "    </tr>\n",
       "    <tr>\n",
       "      <th>NOX</th>\n",
       "      <td>50.134704</td>\n",
       "      <td>0.001308</td>\n",
       "      <td>0.998479</td>\n",
       "      <td>159.116390</td>\n",
       "    </tr>\n",
       "  </tbody>\n",
       "</table>\n",
       "</div>"
      ],
      "text/plain": [
       "       explained_variance  variance_ratio  cum_variance_ratio  singular_values\n",
       "CRIM         30889.518211        0.805815            0.805815      3949.583104\n",
       "ZN            6250.274010        0.163051            0.968865      1776.622744\n",
       "INDUS          818.365244        0.021349            0.990214       642.864253\n",
       "CHAS           266.683023        0.006957            0.997171       366.980826\n",
       "NOX             50.134704        0.001308            0.998479       159.116390"
      ]
     },
     "execution_count": 51,
     "metadata": {},
     "output_type": "execute_result"
    }
   ],
   "source": [
    "# Rotate data original features\n",
    "originalX = pd.DataFrame(bdata.data, columns = bdata.feature_names)\n",
    "featureNames = originalX.columns\n",
    "\n",
    "m = PCA().fit(originalX)\n",
    "\n",
    "pcaSummary = pd.DataFrame(m.explained_variance_, columns = ['explained_variance'], index=featureNames)\n",
    "pcaSummary['variance_ratio'] = m.explained_variance_ratio_\n",
    "pcaSummary['cum_variance_ratio'] = np.cumsum(m.explained_variance_ratio_)\n",
    "pcaSummary['singular_values'] = m.singular_values_\n",
    "\n",
    "pcaSummary.head()"
   ]
  },
  {
   "cell_type": "code",
   "execution_count": 56,
   "metadata": {},
   "outputs": [
    {
     "name": "stdout",
     "output_type": "stream",
     "text": [
      "Lowest loss:  70.0810877952\n",
      "Best feature:  CRIM\n"
     ]
    }
   ],
   "source": [
    "i = 0\n",
    "maxFeatures = 13\n",
    "bestMean = 0\n",
    "feature = 0\n",
    "\n",
    "while i < maxFeatures :    \n",
    "    x = dataRot[:, i].reshape(-1,1)\n",
    "    y = boston['MEDV']\n",
    "\n",
    "    lm = LinearRegression()\n",
    "    lm.fit(x, y)\n",
    "    \n",
    "    scores = cross_val_score(lm, x, y, cv=10, scoring=MSE)\n",
    "    scoresMean = scores.mean()\n",
    "    \n",
    "    if (i == 0):\n",
    "        bestMean = scoresMean\n",
    "        feature = i\n",
    "    else:\n",
    "        if (scoresMean < bestMean):\n",
    "            bestMean = scoresMean\n",
    "            feature = i\n",
    "    \n",
    "    i = i + 1\n",
    "\n",
    "print('Lowest loss: ', bestMean)\n",
    "print('Best feature: ', featureNames[feature])"
   ]
  },
  {
   "cell_type": "code",
   "execution_count": 57,
   "metadata": {},
   "outputs": [
    {
     "name": "stdout",
     "output_type": "stream",
     "text": [
      "Variance by variable:\n",
      " [  3.08284717e+04   6.23792169e+03   8.16747922e+02   2.66155981e+02\n",
      "   5.00356236e+01   2.78416349e+01   1.60690855e+01   9.51546794e+00\n",
      "   3.26682587e+00   1.17875328e+00   2.54601972e-01   5.99823841e-02\n",
      "   3.04748580e-03]\n"
     ]
    },
    {
     "data": {
      "image/png": "[encoded data removed]",
      "text/plain": [
       "<matplotlib.figure.Figure at 0x1c1b518da0>"
      ]
     },
     "metadata": {},
     "output_type": "display_data"
    }
   ],
   "source": [
    "originalX = pd.DataFrame(bdata.data, columns = bdata.feature_names)\n",
    "\n",
    "fig = plt.gcf()\n",
    "\n",
    "dataRot = PCA().fit_transform(originalX)\n",
    "plt.scatter(dataRot[:,0], dataRot[:,1])\n",
    "plt.axes().set_aspect(\"equal\")\n",
    "\n",
    "print(\"Variance by variable:\\n\", np.apply_along_axis(np.var, 0, dataRot))"
   ]
  },
  {
   "cell_type": "markdown",
   "metadata": {},
   "source": [
    "<h3> PCA on Normalized Data"
   ]
  },
  {
   "cell_type": "code",
   "execution_count": 58,
   "metadata": {
    "collapsed": true
   },
   "outputs": [],
   "source": [
    "def normalize(x):\n",
    "    return (x - np.mean(x)) / np.std(x)"
   ]
  },
  {
   "cell_type": "code",
   "execution_count": 59,
   "metadata": {},
   "outputs": [
    {
     "data": {
      "text/html": [
       "<div>\n",
       "<style>\n",
       "    .dataframe thead tr:only-child th {\n",
       "        text-align: right;\n",
       "    }\n",
       "\n",
       "    .dataframe thead th {\n",
       "        text-align: left;\n",
       "    }\n",
       "\n",
       "    .dataframe tbody tr th {\n",
       "        vertical-align: top;\n",
       "    }\n",
       "</style>\n",
       "<table border=\"1\" class=\"dataframe\">\n",
       "  <thead>\n",
       "    <tr style=\"text-align: right;\">\n",
       "      <th></th>\n",
       "      <th>CRIM</th>\n",
       "      <th>ZN</th>\n",
       "      <th>INDUS</th>\n",
       "      <th>CHAS</th>\n",
       "      <th>NOX</th>\n",
       "      <th>RM</th>\n",
       "      <th>AGE</th>\n",
       "      <th>DIS</th>\n",
       "      <th>RAD</th>\n",
       "      <th>TAX</th>\n",
       "      <th>PTRATIO</th>\n",
       "      <th>B</th>\n",
       "      <th>LSTAT</th>\n",
       "    </tr>\n",
       "  </thead>\n",
       "  <tbody>\n",
       "    <tr>\n",
       "      <th>0</th>\n",
       "      <td>-0.417713</td>\n",
       "      <td>0.284830</td>\n",
       "      <td>-1.287909</td>\n",
       "      <td>-0.272599</td>\n",
       "      <td>-0.144217</td>\n",
       "      <td>0.413672</td>\n",
       "      <td>-0.120013</td>\n",
       "      <td>0.140214</td>\n",
       "      <td>-0.982843</td>\n",
       "      <td>-0.666608</td>\n",
       "      <td>-1.459000</td>\n",
       "      <td>0.441052</td>\n",
       "      <td>-1.075562</td>\n",
       "    </tr>\n",
       "    <tr>\n",
       "      <th>1</th>\n",
       "      <td>-0.415269</td>\n",
       "      <td>-0.487722</td>\n",
       "      <td>-0.593381</td>\n",
       "      <td>-0.272599</td>\n",
       "      <td>-0.740262</td>\n",
       "      <td>0.194274</td>\n",
       "      <td>0.367166</td>\n",
       "      <td>0.557160</td>\n",
       "      <td>-0.867883</td>\n",
       "      <td>-0.987329</td>\n",
       "      <td>-0.303094</td>\n",
       "      <td>0.441052</td>\n",
       "      <td>-0.492439</td>\n",
       "    </tr>\n",
       "    <tr>\n",
       "      <th>2</th>\n",
       "      <td>-0.415272</td>\n",
       "      <td>-0.487722</td>\n",
       "      <td>-0.593381</td>\n",
       "      <td>-0.272599</td>\n",
       "      <td>-0.740262</td>\n",
       "      <td>1.282714</td>\n",
       "      <td>-0.265812</td>\n",
       "      <td>0.557160</td>\n",
       "      <td>-0.867883</td>\n",
       "      <td>-0.987329</td>\n",
       "      <td>-0.303094</td>\n",
       "      <td>0.396427</td>\n",
       "      <td>-1.208727</td>\n",
       "    </tr>\n",
       "    <tr>\n",
       "      <th>3</th>\n",
       "      <td>-0.414680</td>\n",
       "      <td>-0.487722</td>\n",
       "      <td>-1.306878</td>\n",
       "      <td>-0.272599</td>\n",
       "      <td>-0.835284</td>\n",
       "      <td>1.016303</td>\n",
       "      <td>-0.809889</td>\n",
       "      <td>1.077737</td>\n",
       "      <td>-0.752922</td>\n",
       "      <td>-1.106115</td>\n",
       "      <td>0.113032</td>\n",
       "      <td>0.416163</td>\n",
       "      <td>-1.361517</td>\n",
       "    </tr>\n",
       "    <tr>\n",
       "      <th>4</th>\n",
       "      <td>-0.410409</td>\n",
       "      <td>-0.487722</td>\n",
       "      <td>-1.306878</td>\n",
       "      <td>-0.272599</td>\n",
       "      <td>-0.835284</td>\n",
       "      <td>1.228577</td>\n",
       "      <td>-0.511180</td>\n",
       "      <td>1.077737</td>\n",
       "      <td>-0.752922</td>\n",
       "      <td>-1.106115</td>\n",
       "      <td>0.113032</td>\n",
       "      <td>0.441052</td>\n",
       "      <td>-1.026501</td>\n",
       "    </tr>\n",
       "  </tbody>\n",
       "</table>\n",
       "</div>"
      ],
      "text/plain": [
       "       CRIM        ZN     INDUS      CHAS       NOX        RM       AGE  \\\n",
       "0 -0.417713  0.284830 -1.287909 -0.272599 -0.144217  0.413672 -0.120013   \n",
       "1 -0.415269 -0.487722 -0.593381 -0.272599 -0.740262  0.194274  0.367166   \n",
       "2 -0.415272 -0.487722 -0.593381 -0.272599 -0.740262  1.282714 -0.265812   \n",
       "3 -0.414680 -0.487722 -1.306878 -0.272599 -0.835284  1.016303 -0.809889   \n",
       "4 -0.410409 -0.487722 -1.306878 -0.272599 -0.835284  1.228577 -0.511180   \n",
       "\n",
       "        DIS       RAD       TAX   PTRATIO         B     LSTAT  \n",
       "0  0.140214 -0.982843 -0.666608 -1.459000  0.441052 -1.075562  \n",
       "1  0.557160 -0.867883 -0.987329 -0.303094  0.441052 -0.492439  \n",
       "2  0.557160 -0.867883 -0.987329 -0.303094  0.396427 -1.208727  \n",
       "3  1.077737 -0.752922 -1.106115  0.113032  0.416163 -1.361517  \n",
       "4  1.077737 -0.752922 -1.106115  0.113032  0.441052 -1.026501  "
      ]
     },
     "execution_count": 59,
     "metadata": {},
     "output_type": "execute_result"
    }
   ],
   "source": [
    "# Normalized all variables\n",
    "\n",
    "originalX2 = pd.DataFrame(bdata.data, columns = bdata.feature_names)\n",
    "\n",
    "for name in originalX2.columns:\n",
    "    originalX2[name] = normalize(originalX2[name])\n",
    "\n",
    "originalX2.head()"
   ]
  },
  {
   "cell_type": "code",
   "execution_count": 60,
   "metadata": {},
   "outputs": [
    {
     "data": {
      "text/html": [
       "<div>\n",
       "<style>\n",
       "    .dataframe thead tr:only-child th {\n",
       "        text-align: right;\n",
       "    }\n",
       "\n",
       "    .dataframe thead th {\n",
       "        text-align: left;\n",
       "    }\n",
       "\n",
       "    .dataframe tbody tr th {\n",
       "        vertical-align: top;\n",
       "    }\n",
       "</style>\n",
       "<table border=\"1\" class=\"dataframe\">\n",
       "  <thead>\n",
       "    <tr style=\"text-align: right;\">\n",
       "      <th></th>\n",
       "      <th>explained_variance</th>\n",
       "      <th>variance_ratio</th>\n",
       "      <th>cum_variance_ratio</th>\n",
       "      <th>singular_values</th>\n",
       "    </tr>\n",
       "  </thead>\n",
       "  <tbody>\n",
       "    <tr>\n",
       "      <th>CRIM</th>\n",
       "      <td>6.134779</td>\n",
       "      <td>0.470973</td>\n",
       "      <td>0.470973</td>\n",
       "      <td>55.660249</td>\n",
       "    </tr>\n",
       "    <tr>\n",
       "      <th>ZN</th>\n",
       "      <td>1.434899</td>\n",
       "      <td>0.110159</td>\n",
       "      <td>0.581132</td>\n",
       "      <td>26.918842</td>\n",
       "    </tr>\n",
       "    <tr>\n",
       "      <th>INDUS</th>\n",
       "      <td>1.243621</td>\n",
       "      <td>0.095474</td>\n",
       "      <td>0.676606</td>\n",
       "      <td>25.060496</td>\n",
       "    </tr>\n",
       "    <tr>\n",
       "      <th>CHAS</th>\n",
       "      <td>0.859498</td>\n",
       "      <td>0.065985</td>\n",
       "      <td>0.742591</td>\n",
       "      <td>20.833777</td>\n",
       "    </tr>\n",
       "    <tr>\n",
       "      <th>NOX</th>\n",
       "      <td>0.836219</td>\n",
       "      <td>0.064197</td>\n",
       "      <td>0.806788</td>\n",
       "      <td>20.549708</td>\n",
       "    </tr>\n",
       "    <tr>\n",
       "      <th>RM</th>\n",
       "      <td>0.660957</td>\n",
       "      <td>0.050742</td>\n",
       "      <td>0.857531</td>\n",
       "      <td>18.269734</td>\n",
       "    </tr>\n",
       "    <tr>\n",
       "      <th>AGE</th>\n",
       "      <td>0.540085</td>\n",
       "      <td>0.041463</td>\n",
       "      <td>0.898993</td>\n",
       "      <td>16.514928</td>\n",
       "    </tr>\n",
       "    <tr>\n",
       "      <th>DIS</th>\n",
       "      <td>0.397329</td>\n",
       "      <td>0.030503</td>\n",
       "      <td>0.929497</td>\n",
       "      <td>14.165145</td>\n",
       "    </tr>\n",
       "    <tr>\n",
       "      <th>RAD</th>\n",
       "      <td>0.277984</td>\n",
       "      <td>0.021341</td>\n",
       "      <td>0.950838</td>\n",
       "      <td>11.848295</td>\n",
       "    </tr>\n",
       "    <tr>\n",
       "      <th>TAX</th>\n",
       "      <td>0.220696</td>\n",
       "      <td>0.016943</td>\n",
       "      <td>0.967781</td>\n",
       "      <td>10.557057</td>\n",
       "    </tr>\n",
       "    <tr>\n",
       "      <th>PTRATIO</th>\n",
       "      <td>0.186533</td>\n",
       "      <td>0.014320</td>\n",
       "      <td>0.982101</td>\n",
       "      <td>9.705613</td>\n",
       "    </tr>\n",
       "    <tr>\n",
       "      <th>B</th>\n",
       "      <td>0.169502</td>\n",
       "      <td>0.013013</td>\n",
       "      <td>0.995114</td>\n",
       "      <td>9.251958</td>\n",
       "    </tr>\n",
       "    <tr>\n",
       "      <th>LSTAT</th>\n",
       "      <td>0.063641</td>\n",
       "      <td>0.004886</td>\n",
       "      <td>1.000000</td>\n",
       "      <td>5.669114</td>\n",
       "    </tr>\n",
       "  </tbody>\n",
       "</table>\n",
       "</div>"
      ],
      "text/plain": [
       "         explained_variance  variance_ratio  cum_variance_ratio  \\\n",
       "CRIM               6.134779        0.470973            0.470973   \n",
       "ZN                 1.434899        0.110159            0.581132   \n",
       "INDUS              1.243621        0.095474            0.676606   \n",
       "CHAS               0.859498        0.065985            0.742591   \n",
       "NOX                0.836219        0.064197            0.806788   \n",
       "RM                 0.660957        0.050742            0.857531   \n",
       "AGE                0.540085        0.041463            0.898993   \n",
       "DIS                0.397329        0.030503            0.929497   \n",
       "RAD                0.277984        0.021341            0.950838   \n",
       "TAX                0.220696        0.016943            0.967781   \n",
       "PTRATIO            0.186533        0.014320            0.982101   \n",
       "B                  0.169502        0.013013            0.995114   \n",
       "LSTAT              0.063641        0.004886            1.000000   \n",
       "\n",
       "         singular_values  \n",
       "CRIM           55.660249  \n",
       "ZN             26.918842  \n",
       "INDUS          25.060496  \n",
       "CHAS           20.833777  \n",
       "NOX            20.549708  \n",
       "RM             18.269734  \n",
       "AGE            16.514928  \n",
       "DIS            14.165145  \n",
       "RAD            11.848295  \n",
       "TAX            10.557057  \n",
       "PTRATIO         9.705613  \n",
       "B               9.251958  \n",
       "LSTAT           5.669114  "
      ]
     },
     "metadata": {},
     "output_type": "display_data"
    },
    {
     "name": "stdout",
     "output_type": "stream",
     "text": [
      "Variance by variable:\n",
      " [ 6.12265476  1.43206335  1.24116299  0.85779892  0.83456618  0.65965056\n",
      "  0.53901749  0.39654415  0.27743495  0.22025981  0.18616388  0.16916744\n",
      "  0.06351553]\n"
     ]
    },
    {
     "data": {
      "image/png": "[encoded data removed]",
      "text/plain": [
       "<matplotlib.figure.Figure at 0x1c1b5b0c50>"
      ]
     },
     "metadata": {},
     "output_type": "display_data"
    }
   ],
   "source": [
    "featureNames = originalX2.columns\n",
    "\n",
    "m = PCA().fit(originalX2)\n",
    "\n",
    "pcaSummary = pd.DataFrame(m.explained_variance_, columns = ['explained_variance'], index=featureNames)\n",
    "pcaSummary['variance_ratio'] = m.explained_variance_ratio_\n",
    "pcaSummary['cum_variance_ratio'] = np.cumsum(m.explained_variance_ratio_)\n",
    "pcaSummary['singular_values'] = m.singular_values_\n",
    "\n",
    "display(pcaSummary)\n",
    "\n",
    "fig = plt.gcf()\n",
    "\n",
    "dataRot = PCA().fit_transform(originalX2)\n",
    "plt.scatter(dataRot[:,0], dataRot[:,1])\n",
    "plt.axes().set_aspect(\"equal\")\n",
    "\n",
    "print(\"Variance by variable:\\n\", np.apply_along_axis(np.var, 0, dataRot))"
   ]
  },
  {
   "cell_type": "markdown",
   "metadata": {},
   "source": [
    "The most precise was the PCA on Raw Data.\n",
    "\n",
    "The most compact was the PCA on Normalized Data.\n",
    "\n",
    "The easiest to do was the PCA on Normalized Data, due to less lines to write and functions from libraries.\n",
    "\n",
    "The most straightforward interpretation can be depicted from the PCA on Raw Data. For every feature, you can get the explained variance and cumulative variance and singular values. Explaining the normalized data is hard to do and not as straight forward to interpret. "
   ]
  },
  {
   "cell_type": "code",
   "execution_count": null,
   "metadata": {
    "collapsed": true
   },
   "outputs": [],
   "source": []
  }
 ],
 "metadata": {
  "kernelspec": {
   "display_name": "Python 3",
   "language": "python",
   "name": "python3"
  },
  "language_info": {
   "codemirror_mode": {
    "name": "ipython",
    "version": 3
   },
   "file_extension": ".py",
   "mimetype": "text/x-python",
   "name": "python",
   "nbconvert_exporter": "python",
   "pygments_lexer": "ipython3",
   "version": "3.6.2"
  }
 },
 "nbformat": 4,
 "nbformat_minor": 2
}
